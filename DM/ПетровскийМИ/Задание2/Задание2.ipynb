{
 "cells": [
  {
   "cell_type": "markdown",
   "metadata": {
    "id": "BvlBvTDIn371"
   },
   "source": [
    "### Импорт библиотек"
   ]
  },
  {
   "cell_type": "code",
   "execution_count": null,
   "metadata": {
    "id": "VB-0IuuFnwtp"
   },
   "outputs": [],
   "source": [
    "# Импорт библиотек для проведения расчетов\n",
    "import pandas as pd\n",
    "import numpy as np\n",
    "from sklearn.preprocessing import StandardScaler"
   ]
  },
  {
   "cell_type": "code",
   "execution_count": null,
   "metadata": {
    "id": "Jxxp7XH0n87Z"
   },
   "outputs": [],
   "source": [
    "# Импорт библиотек для кластеризации\n",
    "# Документация: https://scikit-learn.org/stable/modules/clustering.html\n",
    "from sklearn.cluster import AgglomerativeClustering\n",
    "from sklearn.cluster import KMeans\n",
    "from scipy.cluster.hierarchy import dendrogram"
   ]
  },
  {
   "cell_type": "code",
   "execution_count": null,
   "metadata": {
    "id": "waEHhJ88dGHf"
   },
   "outputs": [],
   "source": [
    "# Импорт библиотек для визуализации\n",
    "from matplotlib import pyplot as plt\n",
    "import seaborn as sns"
   ]
  },
  {
   "cell_type": "code",
   "execution_count": null,
   "metadata": {
    "colab": {
     "base_uri": "https://localhost:8080/",
     "height": 339
    },
    "id": "Y_TfgESJWnFM",
    "outputId": "e73d3e6d-3a66-4779-ab1d-4610743d9941"
   },
   "outputs": [
    {
     "ename": "ModuleNotFoundError",
     "errorDetails": {
      "actions": [
       {
        "action": "open_url",
        "actionText": "Open Examples",
        "url": "/notebooks/snippets/importing_libraries.ipynb"
       }
      ]
     },
     "evalue": "ignored",
     "output_type": "error",
     "traceback": [
      "\u001b[0;31m---------------------------------------------------------------------------\u001b[0m",
      "\u001b[0;31mModuleNotFoundError\u001b[0m                       Traceback (most recent call last)",
      "\u001b[0;32m<ipython-input-5-2d19cbb0dc72>\u001b[0m in \u001b[0;36m<module>\u001b[0;34m()\u001b[0m\n\u001b[1;32m      3\u001b[0m \u001b[0;34m\u001b[0m\u001b[0m\n\u001b[1;32m      4\u001b[0m \u001b[0;31m# ! python3.7 -m pip install sklearn-som\u001b[0m\u001b[0;34m\u001b[0m\u001b[0;34m\u001b[0m\u001b[0;34m\u001b[0m\u001b[0m\n\u001b[0;32m----> 5\u001b[0;31m \u001b[0;32mfrom\u001b[0m \u001b[0msklearn_som\u001b[0m\u001b[0;34m.\u001b[0m\u001b[0msom\u001b[0m \u001b[0;32mimport\u001b[0m \u001b[0mSOM\u001b[0m\u001b[0;34m\u001b[0m\u001b[0;34m\u001b[0m\u001b[0m\n\u001b[0m",
      "\u001b[0;31mModuleNotFoundError\u001b[0m: No module named 'sklearn_som'",
      "",
      "\u001b[0;31m---------------------------------------------------------------------------\u001b[0;32m\nNOTE: If your import is failing due to a missing package, you can\nmanually install dependencies using either !pip or !apt.\n\nTo view examples of installing some common dependencies, click the\n\"Open Examples\" button below.\n\u001b[0;31m---------------------------------------------------------------------------\u001b[0m\n"
     ]
    }
   ],
   "source": [
    "# Библиотека для построения Self-Organizing Maps: sklearn-som\n",
    "# Документация библиотеки: https://sklearn-som.readthedocs.io/en/latest/index.html\n",
    "\n",
    "# ! python3.7 -m pip install sklearn-som\n",
    "from sklearn_som.som import SOM"
   ]
  },
  {
   "cell_type": "markdown",
   "metadata": {
    "id": "E79qR3s7n_1X"
   },
   "source": [
    "## Загрузка данных"
   ]
  },
  {
   "cell_type": "code",
   "execution_count": null,
   "metadata": {
    "id": "jtYmPhhDoCQI"
   },
   "outputs": [],
   "source": [
    "# Указываем путь к файлу\n",
    "# При работе с google colab существует 2 варианта загрузки файла:\n",
    "# 1. Через google drive\n",
    "# 2. Через левое меню: \"файлы\" -> \"загрузить в сессионное хранилище\" -> \"скопировать файл\" (при наведении на файл)\n",
    "file_path = '/content/baseball.sas7bdat'"
   ]
  },
  {
   "cell_type": "code",
   "execution_count": null,
   "metadata": {
    "id": "E8LgzOBwoKsT"
   },
   "outputs": [],
   "source": [
    "# Загружаем данные из SAS файла\n",
    "df = pd.read_sas(file_path, encoding='latin-1')\n",
    "# Пример данных\n",
    "df.head()"
   ]
  },
  {
   "cell_type": "markdown",
   "metadata": {
    "id": "qCivzh6gdP9O"
   },
   "source": [
    "## Формирование признакового пространства"
   ]
  },
  {
   "cell_type": "code",
   "execution_count": null,
   "metadata": {
    "id": "G2gwVV3roqCP"
   },
   "outputs": [],
   "source": [
    "# Сформируем признаковое пространство:\n",
    "# 1. YrMajor - число лет в лиге\n",
    "# 2. Признаки с префиксом \"n\" - результаты 1986 года \n",
    "# 3. Признаки с префиксом \"сr\"  - результаты за всю карьеру\n",
    "\n",
    "results_1986 = [c for c in df.columns if c[0] == \"n\"]\n",
    "results_all = [c for c in df.columns if c[:2] == \"Cr\"]\n",
    "sign_features = ['YrMajor'] + results_1986 + results_all"
   ]
  },
  {
   "cell_type": "code",
   "execution_count": null,
   "metadata": {
    "id": "ASBOvjli0_pY"
   },
   "outputs": [],
   "source": [
    "# Стандартизация признаков (вставьте свой код)\n",
    "scaler = StandardScaler()\n",
    "\n",
    "X = df.loc[:, sign_features]"
   ]
  },
  {
   "cell_type": "markdown",
   "metadata": {
    "id": "19aqZ0e8om5w"
   },
   "source": [
    "## Часть 1: Иерархическая кластеризация и K-means"
   ]
  },
  {
   "cell_type": "code",
   "execution_count": null,
   "metadata": {
    "id": "JtRnhN77t9F7"
   },
   "outputs": [],
   "source": [
    "# Обучим модель Иерархической кластеризации\n",
    "clustering = AgglomerativeClustering(compute_distances = True, distance_threshold = 0.0, n_clusters = None).fit(X)"
   ]
  },
  {
   "cell_type": "code",
   "execution_count": null,
   "metadata": {
    "id": "A8mtYwZmX0Pb"
   },
   "outputs": [],
   "source": [
    "# Визуализация дендрограммы\n",
    "def plot_dendrogram(model, **kwargs):\n",
    "    # Создаем матрицу связности\n",
    "\n",
    "    # Рассчитываем количество наблюдений в каждой вершине\n",
    "    counts = np.zeros(model.children_.shape[0])\n",
    "    n_samples = len(model.labels_)\n",
    "    for i, merge in enumerate(model.children_):\n",
    "        current_count = 0\n",
    "        for child_idx in merge:\n",
    "            if child_idx < n_samples:\n",
    "                current_count += 1  # Лист\n",
    "            else:\n",
    "                current_count += counts[child_idx - n_samples]\n",
    "        counts[i] = current_count\n",
    "\n",
    "    linkage_matrix = np.column_stack(\n",
    "        [model.children_, model.distances_, counts]\n",
    "    ).astype(float)\n",
    "\n",
    "    fig, axes = plt.subplots(1, 1, figsize=(12, 10))\n",
    "    dendrogram(linkage_matrix, **kwargs, show_leaf_counts = True)\n",
    "\n",
    "plot_dendrogram(clustering, truncate_mode=\"level\", p=3)"
   ]
  },
  {
   "cell_type": "code",
   "execution_count": null,
   "metadata": {
    "id": "JSQAs4FAu0ir"
   },
   "outputs": [],
   "source": [
    "# Выберем число кластеров на основе псевдо критерия Фишера\n",
    "\n",
    "def sum_dist_to_center(X):\n",
    "    center = np.mean(X, axis = 0)\n",
    "    return ((X - center)**2).values.sum()\n",
    "\n",
    "def choose_num_clusters(X, max_clust = 30):\n",
    "    N = X.shape[0]\n",
    "    Q = sum_dist_to_center(X)\n",
    "    pseudo_f = np.array([])\n",
    "    for G in range(2, max_clust):\n",
    "        clustering = AgglomerativeClustering(compute_distances = True, n_clusters = G).fit(X)\n",
    "        W = 0\n",
    "        for l in range(G):\n",
    "            elems = X[clustering.labels_ == l]\n",
    "            W += sum_dist_to_center(elems)\n",
    "        fisher_stat = ((Q - W)/(G - 1))/(W/(N - G))\n",
    "        pseudo_f = np.append(pseudo_f, fisher_stat)\n",
    "        \n",
    "    plt.plot(range(2, max_clust), pseudo_f)\n",
    "    return np.argmax(pseudo_f)+2\n",
    "\n",
    "k = choose_num_clusters(X)\n",
    "clustering = KMeans(n_clusters=k, random_state=0).fit(X)\n",
    "label = clustering.labels_"
   ]
  },
  {
   "cell_type": "markdown",
   "metadata": {
    "id": "xGNanz111FaC"
   },
   "source": [
    "### Ответить на следующие вопросы:\n",
    "\n",
    "#### 1.   Сколько кластеров было выбрано на основе псевдо критерия Фишера?\n",
    "#### 2.   Используя информацию из графика, ответьте на вопросы:\n",
    "> 1.   Каково значение критерия для выбранного числа кластеров?\n",
    "> 2.   А для числа кластеров на один больше и на один меньше?\n",
    "\n"
   ]
  },
  {
   "cell_type": "markdown",
   "metadata": {
    "id": "RfBkKoFpM20W"
   },
   "source": [
    "## Часть 2: SOM"
   ]
  },
  {
   "cell_type": "code",
   "execution_count": null,
   "metadata": {
    "id": "9P6SFu1WNcRv"
   },
   "outputs": [],
   "source": [
    "# Обучаем Self-Organizing Map с размером сетки 3 на 1\n",
    "baseball_som = SOM(m=3, n=1, dim = X.shape[1])\n",
    "baseball_som.fit(X.to_numpy())\n",
    "\n",
    "labels = baseball_som.predict(X.to_numpy())"
   ]
  },
  {
   "cell_type": "code",
   "execution_count": null,
   "metadata": {
    "id": "ZLzqFb1n2PdE"
   },
   "outputs": [],
   "source": [
    "## Дополнительно #\n",
    "## Значения признаков по кластерам удобно визуализировать с помощью barplot\n",
    "## Нужное раскомментировать\n",
    "\n",
    "## 1. В терминах matplotlib \n",
    "# plt.bar(labels, X[\"CrBB\"])\n",
    "# plt.ylabel(\"CrBB\")\n",
    "# plt.xlabel(\"cluster\")\n",
    "\n",
    "## 2. В терминах seaborn (+ доверительные интервалы)\n",
    "# sns.barplot(x = labels, y = X[\"CrBB\"], capsize = 0.1)"
   ]
  },
  {
   "cell_type": "markdown",
   "metadata": {
    "id": "Nv_XaTZV2Cxr"
   },
   "source": [
    "## Часть 3: Анализ кластеров\n",
    "\n",
    "## Построить модели:\n",
    "> Для части 1: выбор количества кластеров на основе иерархической кластеризации с последующим обучение k-means\n",
    "\n",
    "> Для части 2: обучение SOM с размером сетки 2 на 2 \n",
    "\n",
    "## Ответить на следующие вопросы для каждой построенной модели\n",
    "> Вариант I: Какой кластер содержит самых опытных игроков (переменная YrMajor)? \n",
    "> Вариант II: Какой кластер содержит самых успешных по хитам в 1986 году игроков (переменная nHits)?\n",
    "> 1.\tСколько человек попало в этот кластер? \n",
    "> 2.    Как зовут самого типичного игрока в кластере вашего варианта (у него должно быть минимальное расстояние до центра вашего кластера)?"
   ]
  }
 ],
 "metadata": {
  "colab": {
   "collapsed_sections": [],
   "name": "Задание2ИАД.ipynb",
   "provenance": []
  },
  "kernelspec": {
   "display_name": "Python 3 (ipykernel)",
   "language": "python",
   "name": "python3"
  },
  "language_info": {
   "codemirror_mode": {
    "name": "ipython",
    "version": 3
   },
   "file_extension": ".py",
   "mimetype": "text/x-python",
   "name": "python",
   "nbconvert_exporter": "python",
   "pygments_lexer": "ipython3",
   "version": "3.10.6"
  }
 },
 "nbformat": 4,
 "nbformat_minor": 1
}
