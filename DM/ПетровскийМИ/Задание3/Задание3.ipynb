{
 "cells": [
  {
   "cell_type": "code",
   "execution_count": 108,
   "metadata": {
    "id": "p41tv6DRBq3v"
   },
   "outputs": [],
   "source": [
    "import warnings\n",
    "warnings.filterwarnings('ignore')"
   ]
  },
  {
   "cell_type": "markdown",
   "metadata": {
    "id": "BvlBvTDIn371"
   },
   "source": [
    "### Импорт библиотек"
   ]
  },
  {
   "cell_type": "code",
   "execution_count": 34,
   "metadata": {
    "id": "VB-0IuuFnwtp"
   },
   "outputs": [],
   "source": [
    "# Импорт библиотек для проведения расчетов\n",
    "import pandas as pd\n",
    "import numpy as np\n",
    "from sklearn.preprocessing import StandardScaler\n",
    "from sklearn.preprocessing import QuantileTransformer\n",
    "from sklearn.decomposition import PCA\n",
    "\n",
    "from sklearn.model_selection import train_test_split\n",
    "from sklearn.pipeline import Pipeline\n",
    "from sklearn.preprocessing import FunctionTransformer\n",
    "from sklearn.metrics import mean_squared_error"
   ]
  },
  {
   "cell_type": "code",
   "execution_count": 35,
   "metadata": {
    "id": "waEHhJ88dGHf"
   },
   "outputs": [],
   "source": [
    "# Импорт библиотек для визуализации\n",
    "from matplotlib import pyplot as plt\n",
    "import seaborn as sns"
   ]
  },
  {
   "cell_type": "code",
   "execution_count": 36,
   "metadata": {
    "colab": {
     "base_uri": "https://localhost:8080/"
    },
    "id": "wgo080PnQxUS",
    "outputId": "4e9f2b7e-5073-45c4-8b08-ff435ec5805a"
   },
   "outputs": [
    {
     "name": "stdout",
     "output_type": "stream",
     "text": [
      "Collecting varclushi\n",
      "  Downloading varclushi-0.1.0-py3-none-any.whl (6.3 kB)\n",
      "Requirement already satisfied: numpy in /usr/local/lib/python3.7/dist-packages (from varclushi) (1.21.5)\n",
      "Collecting factor-analyzer==0.3.1\n",
      "  Downloading factor_analyzer-0.3.1-py3-none-any.whl (41 kB)\n",
      "\u001b[?25l\r",
      "\u001b[K     |████████                        | 10 kB 20.6 MB/s eta 0:00:01\r",
      "\u001b[K     |███████████████▉                | 20 kB 22.9 MB/s eta 0:00:01\r",
      "\u001b[K     |███████████████████████▉        | 30 kB 25.6 MB/s eta 0:00:01\r",
      "\u001b[K     |███████████████████████████████▊| 40 kB 20.7 MB/s eta 0:00:01\r",
      "\u001b[K     |████████████████████████████████| 41 kB 282 kB/s \n",
      "\u001b[?25hRequirement already satisfied: pandas in /usr/local/lib/python3.7/dist-packages (from varclushi) (1.3.5)\n",
      "Requirement already satisfied: scipy in /usr/local/lib/python3.7/dist-packages (from factor-analyzer==0.3.1->varclushi) (1.4.1)\n",
      "Requirement already satisfied: scikit-learn in /usr/local/lib/python3.7/dist-packages (from factor-analyzer==0.3.1->varclushi) (1.0.2)\n",
      "Requirement already satisfied: python-dateutil>=2.7.3 in /usr/local/lib/python3.7/dist-packages (from pandas->varclushi) (2.8.2)\n",
      "Requirement already satisfied: pytz>=2017.3 in /usr/local/lib/python3.7/dist-packages (from pandas->varclushi) (2018.9)\n",
      "Requirement already satisfied: six>=1.5 in /usr/local/lib/python3.7/dist-packages (from python-dateutil>=2.7.3->pandas->varclushi) (1.15.0)\n",
      "Requirement already satisfied: joblib>=0.11 in /usr/local/lib/python3.7/dist-packages (from scikit-learn->factor-analyzer==0.3.1->varclushi) (1.1.0)\n",
      "Requirement already satisfied: threadpoolctl>=2.0.0 in /usr/local/lib/python3.7/dist-packages (from scikit-learn->factor-analyzer==0.3.1->varclushi) (3.1.0)\n",
      "Installing collected packages: factor-analyzer, varclushi\n",
      "Successfully installed factor-analyzer-0.3.1 varclushi-0.1.0\n"
     ]
    }
   ],
   "source": [
    "# Импорт библиотеки кластеризации переменных\n",
    "# https://pypi.org/project/varclushi/\n",
    "! pip install varclushi\n",
    "from varclushi import VarClusHi"
   ]
  },
  {
   "cell_type": "markdown",
   "metadata": {
    "id": "E79qR3s7n_1X"
   },
   "source": [
    "## Загрузка данных"
   ]
  },
  {
   "cell_type": "code",
   "execution_count": 37,
   "metadata": {
    "id": "jtYmPhhDoCQI"
   },
   "outputs": [],
   "source": [
    "# Указываем путь к файлу\n",
    "# При работе с google colab существует 2 варианта загрузки файла:\n",
    "# 1. Через google drive\n",
    "# 2. Через левое меню: \"файлы\" -> \"загрузить в сессионное хранилище\" -> \"скопировать файл\" (при наведении на файл)\n",
    "file_path = '/content/white_wine.csv'"
   ]
  },
  {
   "cell_type": "code",
   "execution_count": 85,
   "metadata": {
    "colab": {
     "base_uri": "https://localhost:8080/",
     "height": 206
    },
    "id": "E8LgzOBwoKsT",
    "outputId": "6f7a217a-a0a5-4150-cab0-ef46616dcf15"
   },
   "outputs": [
    {
     "data": {
      "text/html": [
       "\n",
       "  <div id=\"df-f068b0b6-d3b5-4b5a-b0a6-63d592356cd3\">\n",
       "    <div class=\"colab-df-container\">\n",
       "      <div>\n",
       "<style scoped>\n",
       "    .dataframe tbody tr th:only-of-type {\n",
       "        vertical-align: middle;\n",
       "    }\n",
       "\n",
       "    .dataframe tbody tr th {\n",
       "        vertical-align: top;\n",
       "    }\n",
       "\n",
       "    .dataframe thead th {\n",
       "        text-align: right;\n",
       "    }\n",
       "</style>\n",
       "<table border=\"1\" class=\"dataframe\">\n",
       "  <thead>\n",
       "    <tr style=\"text-align: right;\">\n",
       "      <th></th>\n",
       "      <th>fixed acidity</th>\n",
       "      <th>volatile acidity</th>\n",
       "      <th>citric acid</th>\n",
       "      <th>sugar</th>\n",
       "      <th>chlorides</th>\n",
       "      <th>free sulfur dioxide</th>\n",
       "      <th>total sulfur dioxide</th>\n",
       "      <th>density</th>\n",
       "      <th>pH</th>\n",
       "      <th>sulphates</th>\n",
       "      <th>alcohol</th>\n",
       "      <th>target_quality</th>\n",
       "    </tr>\n",
       "  </thead>\n",
       "  <tbody>\n",
       "    <tr>\n",
       "      <th>0</th>\n",
       "      <td>7.0</td>\n",
       "      <td>0.27</td>\n",
       "      <td>0.36</td>\n",
       "      <td>20.7</td>\n",
       "      <td>0.045</td>\n",
       "      <td>45.0</td>\n",
       "      <td>170.0</td>\n",
       "      <td>1.0010</td>\n",
       "      <td>3.00</td>\n",
       "      <td>0.45</td>\n",
       "      <td>8.8</td>\n",
       "      <td>6.0</td>\n",
       "    </tr>\n",
       "    <tr>\n",
       "      <th>1</th>\n",
       "      <td>6.3</td>\n",
       "      <td>0.30</td>\n",
       "      <td>0.34</td>\n",
       "      <td>1.6</td>\n",
       "      <td>0.049</td>\n",
       "      <td>14.0</td>\n",
       "      <td>132.0</td>\n",
       "      <td>0.9940</td>\n",
       "      <td>3.30</td>\n",
       "      <td>0.49</td>\n",
       "      <td>9.5</td>\n",
       "      <td>6.0</td>\n",
       "    </tr>\n",
       "    <tr>\n",
       "      <th>2</th>\n",
       "      <td>8.1</td>\n",
       "      <td>0.28</td>\n",
       "      <td>0.40</td>\n",
       "      <td>6.9</td>\n",
       "      <td>0.050</td>\n",
       "      <td>30.0</td>\n",
       "      <td>97.0</td>\n",
       "      <td>0.9951</td>\n",
       "      <td>3.26</td>\n",
       "      <td>0.44</td>\n",
       "      <td>10.1</td>\n",
       "      <td>6.0</td>\n",
       "    </tr>\n",
       "    <tr>\n",
       "      <th>3</th>\n",
       "      <td>7.2</td>\n",
       "      <td>0.23</td>\n",
       "      <td>0.32</td>\n",
       "      <td>8.5</td>\n",
       "      <td>0.058</td>\n",
       "      <td>47.0</td>\n",
       "      <td>186.0</td>\n",
       "      <td>0.9956</td>\n",
       "      <td>3.19</td>\n",
       "      <td>0.40</td>\n",
       "      <td>9.9</td>\n",
       "      <td>6.0</td>\n",
       "    </tr>\n",
       "    <tr>\n",
       "      <th>4</th>\n",
       "      <td>7.2</td>\n",
       "      <td>0.23</td>\n",
       "      <td>0.32</td>\n",
       "      <td>8.5</td>\n",
       "      <td>0.058</td>\n",
       "      <td>47.0</td>\n",
       "      <td>186.0</td>\n",
       "      <td>0.9956</td>\n",
       "      <td>3.19</td>\n",
       "      <td>0.40</td>\n",
       "      <td>9.9</td>\n",
       "      <td>6.0</td>\n",
       "    </tr>\n",
       "  </tbody>\n",
       "</table>\n",
       "</div>\n",
       "      <button class=\"colab-df-convert\" onclick=\"convertToInteractive('df-f068b0b6-d3b5-4b5a-b0a6-63d592356cd3')\"\n",
       "              title=\"Convert this dataframe to an interactive table.\"\n",
       "              style=\"display:none;\">\n",
       "        \n",
       "  <svg xmlns=\"http://www.w3.org/2000/svg\" height=\"24px\"viewBox=\"0 0 24 24\"\n",
       "       width=\"24px\">\n",
       "    <path d=\"M0 0h24v24H0V0z\" fill=\"none\"/>\n",
       "    <path d=\"M18.56 5.44l.94 2.06.94-2.06 2.06-.94-2.06-.94-.94-2.06-.94 2.06-2.06.94zm-11 1L8.5 8.5l.94-2.06 2.06-.94-2.06-.94L8.5 2.5l-.94 2.06-2.06.94zm10 10l.94 2.06.94-2.06 2.06-.94-2.06-.94-.94-2.06-.94 2.06-2.06.94z\"/><path d=\"M17.41 7.96l-1.37-1.37c-.4-.4-.92-.59-1.43-.59-.52 0-1.04.2-1.43.59L10.3 9.45l-7.72 7.72c-.78.78-.78 2.05 0 2.83L4 21.41c.39.39.9.59 1.41.59.51 0 1.02-.2 1.41-.59l7.78-7.78 2.81-2.81c.8-.78.8-2.07 0-2.86zM5.41 20L4 18.59l7.72-7.72 1.47 1.35L5.41 20z\"/>\n",
       "  </svg>\n",
       "      </button>\n",
       "      \n",
       "  <style>\n",
       "    .colab-df-container {\n",
       "      display:flex;\n",
       "      flex-wrap:wrap;\n",
       "      gap: 12px;\n",
       "    }\n",
       "\n",
       "    .colab-df-convert {\n",
       "      background-color: #E8F0FE;\n",
       "      border: none;\n",
       "      border-radius: 50%;\n",
       "      cursor: pointer;\n",
       "      display: none;\n",
       "      fill: #1967D2;\n",
       "      height: 32px;\n",
       "      padding: 0 0 0 0;\n",
       "      width: 32px;\n",
       "    }\n",
       "\n",
       "    .colab-df-convert:hover {\n",
       "      background-color: #E2EBFA;\n",
       "      box-shadow: 0px 1px 2px rgba(60, 64, 67, 0.3), 0px 1px 3px 1px rgba(60, 64, 67, 0.15);\n",
       "      fill: #174EA6;\n",
       "    }\n",
       "\n",
       "    [theme=dark] .colab-df-convert {\n",
       "      background-color: #3B4455;\n",
       "      fill: #D2E3FC;\n",
       "    }\n",
       "\n",
       "    [theme=dark] .colab-df-convert:hover {\n",
       "      background-color: #434B5C;\n",
       "      box-shadow: 0px 1px 3px 1px rgba(0, 0, 0, 0.15);\n",
       "      filter: drop-shadow(0px 1px 2px rgba(0, 0, 0, 0.3));\n",
       "      fill: #FFFFFF;\n",
       "    }\n",
       "  </style>\n",
       "\n",
       "      <script>\n",
       "        const buttonEl =\n",
       "          document.querySelector('#df-f068b0b6-d3b5-4b5a-b0a6-63d592356cd3 button.colab-df-convert');\n",
       "        buttonEl.style.display =\n",
       "          google.colab.kernel.accessAllowed ? 'block' : 'none';\n",
       "\n",
       "        async function convertToInteractive(key) {\n",
       "          const element = document.querySelector('#df-f068b0b6-d3b5-4b5a-b0a6-63d592356cd3');\n",
       "          const dataTable =\n",
       "            await google.colab.kernel.invokeFunction('convertToInteractive',\n",
       "                                                     [key], {});\n",
       "          if (!dataTable) return;\n",
       "\n",
       "          const docLinkHtml = 'Like what you see? Visit the ' +\n",
       "            '<a target=\"_blank\" href=https://colab.research.google.com/notebooks/data_table.ipynb>data table notebook</a>'\n",
       "            + ' to learn more about interactive tables.';\n",
       "          element.innerHTML = '';\n",
       "          dataTable['output_type'] = 'display_data';\n",
       "          await google.colab.output.renderOutput(dataTable, element);\n",
       "          const docLink = document.createElement('div');\n",
       "          docLink.innerHTML = docLinkHtml;\n",
       "          element.appendChild(docLink);\n",
       "        }\n",
       "      </script>\n",
       "    </div>\n",
       "  </div>\n",
       "  "
      ],
      "text/plain": [
       "   fixed acidity  volatile acidity  citric acid  sugar  chlorides  \\\n",
       "0            7.0              0.27         0.36   20.7      0.045   \n",
       "1            6.3              0.30         0.34    1.6      0.049   \n",
       "2            8.1              0.28         0.40    6.9      0.050   \n",
       "3            7.2              0.23         0.32    8.5      0.058   \n",
       "4            7.2              0.23         0.32    8.5      0.058   \n",
       "\n",
       "   free sulfur dioxide  total sulfur dioxide  density    pH  sulphates  \\\n",
       "0                 45.0                 170.0   1.0010  3.00       0.45   \n",
       "1                 14.0                 132.0   0.9940  3.30       0.49   \n",
       "2                 30.0                  97.0   0.9951  3.26       0.44   \n",
       "3                 47.0                 186.0   0.9956  3.19       0.40   \n",
       "4                 47.0                 186.0   0.9956  3.19       0.40   \n",
       "\n",
       "   alcohol  target_quality  \n",
       "0      8.8             6.0  \n",
       "1      9.5             6.0  \n",
       "2     10.1             6.0  \n",
       "3      9.9             6.0  \n",
       "4      9.9             6.0  "
      ]
     },
     "execution_count": 85,
     "metadata": {},
     "output_type": "execute_result"
    }
   ],
   "source": [
    "# Загружаем данные из SAS файла\n",
    "df = pd.read_csv(file_path)\n",
    "df = df.astype('float')\n",
    "# Пример данных\n",
    "df.head()"
   ]
  },
  {
   "cell_type": "markdown",
   "metadata": {
    "id": "do4hZydVE-Mx"
   },
   "source": [
    "## Функции обработки"
   ]
  },
  {
   "cell_type": "code",
   "execution_count": 86,
   "metadata": {
    "id": "WFFnRUa7bghT"
   },
   "outputs": [],
   "source": [
    "# Метод главных компонент\n",
    "def pca_transform(X, transform = []):\n",
    "    pca_model = PCA(n_components='mle')\n",
    "    pca_model.fit(X)\n",
    "\n",
    "    if transform == []:\n",
    "        transform = [X]\n",
    "    return [pca_model.transform(t) for t in transform]"
   ]
  },
  {
   "cell_type": "code",
   "execution_count": 87,
   "metadata": {
    "id": "xkDFlEqVRyX1"
   },
   "outputs": [],
   "source": [
    "# Кластеризация переменных\n",
    "def variable_clustering(X, transform = []):\n",
    "    var_clust_model = VarClusHi(X, maxeigval2 = .7, maxclus = None)\n",
    "    var_clust_model.varclus()\n",
    "    var_clust = var_clust_model.rsquare.loc[:, [\"Cluster\",\"Variable\",\"RS_Ratio\"]]\n",
    "    vars = var_clust.sort_values(\"RS_Ratio\").drop_duplicates(['Cluster'],keep='first')[\"Variable\"].to_list()\n",
    "\n",
    "    if transform == []:\n",
    "        transform = [X]\n",
    "    return [t.loc[:, vars] for t in transform]"
   ]
  },
  {
   "cell_type": "code",
   "execution_count": 41,
   "metadata": {
    "id": "PoJOgLC9xylf"
   },
   "outputs": [],
   "source": [
    "# Разделение на обучающую, валидационную и тестовую выборку\n",
    "def data_partition(X, y):\n",
    "    X_train, X_test_val, y_train, y_test_val = train_test_split(X, y, stratify = y, test_size=0.6, random_state=42)\n",
    "    X_val, X_test, y_val, y_test = train_test_split(X_test_val, y_test_val, stratify = y_test_val, test_size=0.5, random_state=42)\n",
    "    return (X_train, y_train, X_val, y_val, X_test, y_test)"
   ]
  },
  {
   "cell_type": "code",
   "execution_count": 42,
   "metadata": {
    "id": "l3pnB8YFMU5a"
   },
   "outputs": [],
   "source": [
    "# Расчет ошибки прогнозирования\n",
    "def score_model_mae(model, \n",
    "                    X_train, y_train,\n",
    "                    X_val, y_val,\n",
    "                    X_test, y_test):\n",
    "    print(model.__class__.__name__)\n",
    "    print(\"TRAIN MSE: {:f}\".format(mean_squared_error(y_train, model.predict(X_train))))\n",
    "    print(\"VAL MSE: {:f}\".format(mean_squared_error(y_val, model.predict(X_val))))\n",
    "    print(\"TEST MSE: {:f}\".format(mean_squared_error(y_test, model.predict(X_test))))"
   ]
  },
  {
   "cell_type": "markdown",
   "metadata": {
    "id": "kw1nPAhesq5q"
   },
   "source": [
    "## Формирование признакового пространства"
   ]
  },
  {
   "cell_type": "code",
   "execution_count": 112,
   "metadata": {
    "id": "gjd_hshctEQm"
   },
   "outputs": [],
   "source": [
    "# Сформируем признаковое пространство:\n",
    "# Целевая переменная: target_quality. Описывает субъективную оценку качества сорта вина. \n",
    "# Остальные переменные - входные. \n",
    "# Задача – спрогнозировать оценку эксперта в зависимости от объективных химических показателей вина и выявить важные признаки\n",
    "y = df[\"target_quality\"].to_frame()\n",
    "X = df.loc[:, list(set(df.columns) - {\"target_quality\"})]\n",
    "\n",
    "# Дискретизация отклика\n",
    "qtransform = QuantileTransformer(output_distribution='normal', n_quantiles = 5, random_state = 42)\n",
    "y.values[:] = qtransform.fit_transform(y)"
   ]
  },
  {
   "cell_type": "markdown",
   "metadata": {
    "id": "l9YYUjBdswjQ"
   },
   "source": [
    "## Часть 1: KNN"
   ]
  },
  {
   "cell_type": "code",
   "execution_count": 69,
   "metadata": {
    "colab": {
     "base_uri": "https://localhost:8080/"
    },
    "id": "tw0XDXzns9V3",
    "outputId": "c00502be-d844-4678-e39c-aec0bb09dd13"
   },
   "outputs": [
    {
     "name": "stdout",
     "output_type": "stream",
     "text": [
      "KNeighborsRegressor\n",
      "TRAIN MSE: 0.385404\n",
      "VAL MSE: 0.441951\n",
      "TEST MSE: 0.402548\n"
     ]
    }
   ],
   "source": [
    "from sklearn.neighbors import KNeighborsRegressor\n",
    "\n",
    "X_train, y_train, X_val, y_val, X_test, y_test = data_partition(X, y)\n",
    "\n",
    "# Стандартизация\n",
    "scaler = StandardScaler()\n",
    "scaler.fit(X_train)\n",
    "for X_ in (X_train, X_val, X_test):\n",
    "    X_.values[:] = scaler.transform(X_)\n",
    "\n",
    "# PCA или Variable clustring (вставьте свой код)\n",
    "\n",
    "# KNN \n",
    "knn = KNeighborsRegressor(n_neighbors=20)\n",
    "knn.fit(X_train, y_train)\n",
    "\n",
    "# Score\n",
    "score_model_mae(knn, X_train, y_train, X_val, y_val, X_test, y_test)"
   ]
  },
  {
   "cell_type": "markdown",
   "metadata": {
    "id": "KbTrtDyoYY5l"
   },
   "source": [
    "### Вопросы части 1:\n",
    "\n",
    "1. Какие значения MSE получились на тренировочном, валидационном и тестовом наборе данных?\n",
    "2. Перед применением KNN вставьте предобработку PCA (Вариант I), Variable clustering (Вариант II). \n",
    "3. Сколько переменных теперь передается на вход KNN? Как изменились значения MSE в результате? Почему это могло произойти?"
   ]
  },
  {
   "cell_type": "markdown",
   "metadata": {
    "id": "dJ0oISO9s2TM"
   },
   "source": [
    "## Часть 2: Regression"
   ]
  },
  {
   "cell_type": "code",
   "execution_count": 74,
   "metadata": {
    "id": "v-tCK0jas8O6"
   },
   "outputs": [],
   "source": [
    "from sklearn.preprocessing import MinMaxScaler\n",
    "from sklearn.preprocessing import PolynomialFeatures\n",
    "from sklearn.linear_model import LinearRegression\n",
    "from sklearn.feature_selection import SequentialFeatureSelector\n",
    "import statsmodels.api as sm\n",
    "# Документация для OLS\n",
    "# https://bookdown.org/mike/data_analysis/ordinary-least-squares.html\n",
    "\n",
    "X_train, y_train, X_val, y_val, X_test, y_test = data_partition(X, y)\n",
    "\n",
    "# MinMax стандартизация (вставьте свой код)"
   ]
  },
  {
   "cell_type": "code",
   "execution_count": 73,
   "metadata": {
    "colab": {
     "base_uri": "https://localhost:8080/",
     "height": 364
    },
    "id": "48SOqsGjPgEH",
    "outputId": "2bd96928-8322-4eb7-b380-0dcc8fd971af"
   },
   "outputs": [
    {
     "data": {
      "image/png": "[encoded data removed]",
      "text/plain": [
       "<Figure size 432x288 with 1 Axes>"
      ]
     },
     "metadata": {
      "needs_background": "light"
     },
     "output_type": "display_data"
    },
    {
     "name": "stdout",
     "output_type": "stream",
     "text": [
      "LinearRegression\n",
      "TRAIN MSE: 0.379855\n",
      "VAL MSE: 0.449115\n",
      "TEST MSE: 0.399723\n"
     ]
    }
   ],
   "source": [
    "# Построим полиномиальную регрессию (degree = 2)\n",
    "\n",
    "# Отобразмим пространство признаков в пространство полиномов степени 2\n",
    "poly_reg = PolynomialFeatures(degree=2)\n",
    "X_train = poly_reg.fit_transform(X_train)\n",
    "X_val = poly_reg.transform(X_val)\n",
    "X_test = poly_reg.transform(X_test)\n",
    "\n",
    "# Определим лучшее число признаков с помощью Backward (измените код для отбора с помощью Forward)\n",
    "best_feats = None\n",
    "features = list(range(X_train.shape[1]))\n",
    "errs = []\n",
    "while len(features) > 0:\n",
    "    lr = LinearRegression()\n",
    "    lr.fit(X_train[:, features], y_train)\n",
    "    err = mean_squared_error(y_val, lr.predict(X_val[:, features]))\n",
    "    errs.append(err)\n",
    "    if min(errs) == err:\n",
    "        best_feats = features.copy()\n",
    "\n",
    "    model = sm.OLS(y_train, X_train[:, features])\n",
    "    res = model.fit()\n",
    "\n",
    "    # Выбираем худший признак и удаляем из пространства признаков\n",
    "    worse_feature = features[np.argmax(res.pvalues)]\n",
    "    features.remove(worse_feature)\n",
    "\n",
    "# Визуализируем ошибки\n",
    "idx = len(errs) - len(best_feats)\n",
    "plt.plot(errs)\n",
    "plt.plot(idx, errs[idx], 'P', ms=10, mfc='red')\n",
    "plt.xlabel(\"Номер итерации\")\n",
    "plt.ylabel(\"MSE\")\n",
    "plt.title(\"Ошибка при отборе признаков методом Backward\")\n",
    "plt.show()\n",
    "\n",
    "# Обучим линейную регрессию на лучших признаках\n",
    "lr = LinearRegression()\n",
    "lr.fit(X_train[:, best_feats], y_train)\n",
    "\n",
    "score_model_mae(lr, \n",
    "                X_train[:, best_feats], y_train, \n",
    "                X_val[:, best_feats], y_val, \n",
    "                X_test[:, best_feats], y_test)"
   ]
  },
  {
   "cell_type": "markdown",
   "metadata": {
    "id": "kRsF4BAMXxfo"
   },
   "source": [
    "### Вопросы к части 2:\n",
    "\n",
    "1. Аналогично алгоритму выбора признаков Backward, опишите алгоритм Forward\n",
    "2. Какая модель показывает лучшее качество на тестовом наборе? \n",
    "3. Какие переменные не вошли в результирующую регрессионую модель? \n",
    "4. На каком шаге была выбрана лучшая модель?\n",
    "5. С помощью summary() определите какая из вошедших переменных наименее важная с точки зрения t-статистики?\n",
    "\n",
    "5. После разделения данных добавьте MinMaxScaler. Как изменились результаты регрессионной модели с точки числа степеней свободы и значения MSE на тестовом наборе?"
   ]
  },
  {
   "cell_type": "markdown",
   "metadata": {
    "id": "azYnRspns-Fg"
   },
   "source": [
    "## Часть 3: PLS/PCR"
   ]
  },
  {
   "cell_type": "code",
   "execution_count": 105,
   "metadata": {
    "colab": {
     "base_uri": "https://localhost:8080/"
    },
    "id": "cx4-rkJGtDEq",
    "outputId": "df1db5e7-92c7-4064-b5b1-6b331e6be177"
   },
   "outputs": [
    {
     "name": "stdout",
     "output_type": "stream",
     "text": [
      "Pipeline\n",
      "TRAIN MSE: 0.477364\n",
      "VAL MSE: 0.496493\n",
      "TEST MSE: 0.471302\n",
      "PLSRegression\n",
      "TRAIN MSE: 0.441024\n",
      "VAL MSE: 0.464150\n",
      "TEST MSE: 0.445547\n"
     ]
    }
   ],
   "source": [
    "from sklearn.decomposition import PCA\n",
    "from sklearn.pipeline import make_pipeline\n",
    "from sklearn.cross_decomposition import PLSRegression\n",
    "from sklearn.model_selection import cross_val_predict\n",
    "\n",
    "X_train, y_train, X_val, y_val, X_test, y_test = data_partition(X, y)\n",
    "\n",
    "# Метод PCR представляем в виде комбинации PCA с последующей линейной регрессией\n",
    "pcr = make_pipeline(PCA(n_components=5), LinearRegression())\n",
    "pcr.fit(X_train, y_train)\n",
    "\n",
    "pls = PLSRegression(n_components=5)\n",
    "pls.fit(X_train, y_train)\n",
    "\n",
    "# MSE\n",
    "score_model_mae(pcr, X_train, y_train, X_val, y_val, X_test, y_test)\n",
    "score_model_mae(pls, X_train, y_train, X_val, y_val, X_test, y_test)"
   ]
  },
  {
   "cell_type": "code",
   "execution_count": 106,
   "metadata": {
    "colab": {
     "base_uri": "https://localhost:8080/",
     "height": 295
    },
    "id": "4f-hRwUyTYVf",
    "outputId": "00756e97-c2ac-4be1-8f9d-9e043040110a"
   },
   "outputs": [
    {
     "data": {
      "image/png": "[encoded data removed]",
      "text/plain": [
       "<Figure size 432x288 with 1 Axes>"
      ]
     },
     "metadata": {
      "needs_background": "light"
     },
     "output_type": "display_data"
    }
   ],
   "source": [
    "# Необходимо определить лучшее количество компонент\n",
    "\n",
    "def optimise_comp_cv(X, y, n_comp):\n",
    "    # Определяем модель (PLS или PCR)\n",
    "    pls = PLSRegression(n_components=n_comp)\n",
    "\n",
    "    # Расчет ошибки на кросс-валидации\n",
    "    y_cv = cross_val_predict(pls, X, y, cv=10)\n",
    "    mse = mean_squared_error(y, y_cv)\n",
    "    return mse\n",
    "\n",
    "# Визуализация MSE\n",
    "def plot_metrics(vals, ylabel, objective, xticks):\n",
    "    plt.plot(xticks, np.array(vals), '-v')\n",
    "    if objective=='min':\n",
    "        idx = np.argmin(vals)\n",
    "    else:\n",
    "        idx = np.argmax(vals)\n",
    "    plt.plot(xticks[idx], np.array(vals)[idx], 'P', ms=10, mfc='red')\n",
    "\n",
    "    plt.xlabel('Количество компонент PLS')\n",
    "    plt.xticks = xticks\n",
    "    plt.ylabel(ylabel)\n",
    "    plt.title('PLS')\n",
    "    plt.show()\n",
    "\n",
    "\n",
    "# Кросс-валидация проводится на обучающей и валидационной выборках\n",
    "X_tr_val = pd.concat([X_train, X_val])\n",
    "y_tr_val = pd.concat([y_train, y_val])\n",
    "mses = []\n",
    "list_components = list(range(1, X_tr_val.shape[1]+1))\n",
    "for n_comp in list_components:\n",
    "    mse = optimise_comp_cv(X_tr_val, y_tr_val, n_comp)\n",
    "    mses.append(mse)\n",
    "plot_metrics(mses, 'MSE', 'min', list_components)"
   ]
  },
  {
   "cell_type": "markdown",
   "metadata": {
    "id": "UP4cqhXmXkD3"
   },
   "source": [
    "### Вопросы к части 3:\n",
    "\n",
    "1. Сколько компонент было выбрано для моделей PCR и PLS?\n",
    "2. Какое значение MSE модели показывают на тестовом наборе?"
   ]
  },
  {
   "cell_type": "markdown",
   "metadata": {
    "id": "hpWaP0wJSIUe"
   },
   "source": [
    "## Часть 4: LARS + LASSO"
   ]
  },
  {
   "cell_type": "code",
   "execution_count": 113,
   "metadata": {
    "colab": {
     "base_uri": "https://localhost:8080/"
    },
    "id": "lKU6--y-SHl1",
    "outputId": "d47e7094-a70d-4879-8e69-a9269b219208"
   },
   "outputs": [
    {
     "name": "stdout",
     "output_type": "stream",
     "text": [
      "LassoLarsIC\n",
      "TRAIN MSE: 0.440585\n",
      "VAL MSE: 0.456414\n",
      "TEST MSE: 0.438269\n"
     ]
    }
   ],
   "source": [
    "# Документация LARS+LASSO\n",
    "# https://scikit-learn.org/stable/modules/generated/sklearn.linear_model.LassoLarsIC.html#sklearn.linear_model.LassoLarsIC\n",
    "\n",
    "from sklearn.linear_model import LassoLarsIC\n",
    "\n",
    "X_train, y_train, X_val, y_val, X_test, y_test = data_partition(X, y)\n",
    "\n",
    "X_tr_val = pd.concat([X_train, X_val])\n",
    "y_tr_val = pd.concat([y_train, y_val])\n",
    "reg = LassoLarsIC(criterion='aic', normalize=True)\n",
    "reg.fit(X_tr_val, y_tr_val)\n",
    "\n",
    "score_model_mae(reg, X_train, y_train, X_val, y_val, X_test, y_test)"
   ]
  },
  {
   "cell_type": "markdown",
   "metadata": {
    "id": "1XUiDGQOXN0U"
   },
   "source": [
    "### Вопросы к части 4:\n",
    "\n",
    "1. Какое значение MSE модель показывает на тестовом наборе? \n",
    "2. Какая пременная была отобрана на первом шаге? \n",
    "3. Сколько всего переменных было отобрано?\n",
    "4. Если бы вместо критерия отбора модели вашего варианта использовался критерий MSE на валидационном наборе, то было бы отобрано больше или меньше переменных?"
   ]
  },
  {
   "cell_type": "markdown",
   "metadata": {
    "id": "hpWqSD3xCNJQ"
   },
   "source": [
    "## Общие вопросы:\n",
    "\n",
    "1. Зачем при разделении выборкок проводится стратификация по целевой переменной?\n",
    "2. Какая модель показала лучшее значение MSE на тестовой выборке?"
   ]
  }
 ],
 "metadata": {
  "colab": {
   "collapsed_sections": [],
   "name": "Задание3ИАД.ipynb",
   "provenance": []
  },
  "kernelspec": {
   "display_name": "Python 3 (ipykernel)",
   "language": "python",
   "name": "python3"
  },
  "language_info": {
   "codemirror_mode": {
    "name": "ipython",
    "version": 3
   },
   "file_extension": ".py",
   "mimetype": "text/x-python",
   "name": "python",
   "nbconvert_exporter": "python",
   "pygments_lexer": "ipython3",
   "version": "3.10.6"
  }
 },
 "nbformat": 4,
 "nbformat_minor": 1
}
