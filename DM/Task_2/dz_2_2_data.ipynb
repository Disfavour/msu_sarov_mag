{
 "cells": [
  {
   "cell_type": "markdown",
   "metadata": {},
   "source": [
    "# Мария Студеникина СТФИ-122\n",
    "## Вариант 2\n",
    "## Творческое задание"
   ]
  },
  {
   "cell_type": "code",
   "execution_count": 1,
   "metadata": {},
   "outputs": [],
   "source": [
    "# Импорт библиотек для проведения расчетов\n",
    "import pandas as pd\n",
    "import numpy as np\n",
    "from sklearn.preprocessing import StandardScaler\n",
    "import sklearn.metrics as metrics\n",
    "from sklearn.neural_network import MLPRegressor\n",
    "from sklearn.preprocessing import MaxAbsScaler"
   ]
  },
  {
   "cell_type": "code",
   "execution_count": 3,
   "metadata": {},
   "outputs": [],
   "source": [
    "# Импорт библиотек для визуализации\n",
    "from matplotlib import pyplot as plt\n",
    "#import seaborn as sns\n",
    "from sklearn.metrics import roc_curve"
   ]
  },
  {
   "cell_type": "code",
   "execution_count": 3,
   "metadata": {},
   "outputs": [],
   "source": [
    "# Импорт библиотек для текста\n",
    "#from simple_colors import *"
   ]
  },
  {
   "cell_type": "markdown",
   "metadata": {},
   "source": [
    "## Загрузка данных"
   ]
  },
  {
   "cell_type": "code",
   "execution_count": 5,
   "metadata": {},
   "outputs": [
    {
     "data": {
      "text/html": [
       "<div>\n",
       "<style scoped>\n",
       "    .dataframe tbody tr th:only-of-type {\n",
       "        vertical-align: middle;\n",
       "    }\n",
       "\n",
       "    .dataframe tbody tr th {\n",
       "        vertical-align: top;\n",
       "    }\n",
       "\n",
       "    .dataframe thead th {\n",
       "        text-align: right;\n",
       "    }\n",
       "</style>\n",
       "<table border=\"1\" class=\"dataframe\">\n",
       "  <thead>\n",
       "    <tr style=\"text-align: right;\">\n",
       "      <th></th>\n",
       "      <th>label</th>\n",
       "      <th>1x1</th>\n",
       "      <th>1x2</th>\n",
       "      <th>1x3</th>\n",
       "      <th>1x4</th>\n",
       "      <th>1x5</th>\n",
       "      <th>1x6</th>\n",
       "      <th>1x7</th>\n",
       "      <th>1x8</th>\n",
       "      <th>1x9</th>\n",
       "      <th>...</th>\n",
       "      <th>28x19</th>\n",
       "      <th>28x20</th>\n",
       "      <th>28x21</th>\n",
       "      <th>28x22</th>\n",
       "      <th>28x23</th>\n",
       "      <th>28x24</th>\n",
       "      <th>28x25</th>\n",
       "      <th>28x26</th>\n",
       "      <th>28x27</th>\n",
       "      <th>28x28</th>\n",
       "    </tr>\n",
       "  </thead>\n",
       "  <tbody>\n",
       "    <tr>\n",
       "      <th>0</th>\n",
       "      <td>0</td>\n",
       "      <td>0</td>\n",
       "      <td>0</td>\n",
       "      <td>0</td>\n",
       "      <td>0</td>\n",
       "      <td>0</td>\n",
       "      <td>0</td>\n",
       "      <td>0</td>\n",
       "      <td>0</td>\n",
       "      <td>0</td>\n",
       "      <td>...</td>\n",
       "      <td>0</td>\n",
       "      <td>0</td>\n",
       "      <td>0</td>\n",
       "      <td>0</td>\n",
       "      <td>0</td>\n",
       "      <td>0</td>\n",
       "      <td>0</td>\n",
       "      <td>0</td>\n",
       "      <td>0</td>\n",
       "      <td>0</td>\n",
       "    </tr>\n",
       "    <tr>\n",
       "      <th>1</th>\n",
       "      <td>0</td>\n",
       "      <td>0</td>\n",
       "      <td>0</td>\n",
       "      <td>0</td>\n",
       "      <td>0</td>\n",
       "      <td>0</td>\n",
       "      <td>0</td>\n",
       "      <td>0</td>\n",
       "      <td>0</td>\n",
       "      <td>0</td>\n",
       "      <td>...</td>\n",
       "      <td>0</td>\n",
       "      <td>0</td>\n",
       "      <td>0</td>\n",
       "      <td>0</td>\n",
       "      <td>0</td>\n",
       "      <td>0</td>\n",
       "      <td>0</td>\n",
       "      <td>0</td>\n",
       "      <td>0</td>\n",
       "      <td>0</td>\n",
       "    </tr>\n",
       "    <tr>\n",
       "      <th>2</th>\n",
       "      <td>0</td>\n",
       "      <td>0</td>\n",
       "      <td>0</td>\n",
       "      <td>0</td>\n",
       "      <td>0</td>\n",
       "      <td>0</td>\n",
       "      <td>0</td>\n",
       "      <td>0</td>\n",
       "      <td>0</td>\n",
       "      <td>0</td>\n",
       "      <td>...</td>\n",
       "      <td>0</td>\n",
       "      <td>0</td>\n",
       "      <td>0</td>\n",
       "      <td>0</td>\n",
       "      <td>0</td>\n",
       "      <td>0</td>\n",
       "      <td>0</td>\n",
       "      <td>0</td>\n",
       "      <td>0</td>\n",
       "      <td>0</td>\n",
       "    </tr>\n",
       "    <tr>\n",
       "      <th>3</th>\n",
       "      <td>0</td>\n",
       "      <td>0</td>\n",
       "      <td>0</td>\n",
       "      <td>0</td>\n",
       "      <td>0</td>\n",
       "      <td>0</td>\n",
       "      <td>0</td>\n",
       "      <td>0</td>\n",
       "      <td>0</td>\n",
       "      <td>0</td>\n",
       "      <td>...</td>\n",
       "      <td>0</td>\n",
       "      <td>0</td>\n",
       "      <td>0</td>\n",
       "      <td>0</td>\n",
       "      <td>0</td>\n",
       "      <td>0</td>\n",
       "      <td>0</td>\n",
       "      <td>0</td>\n",
       "      <td>0</td>\n",
       "      <td>0</td>\n",
       "    </tr>\n",
       "    <tr>\n",
       "      <th>4</th>\n",
       "      <td>0</td>\n",
       "      <td>0</td>\n",
       "      <td>0</td>\n",
       "      <td>0</td>\n",
       "      <td>0</td>\n",
       "      <td>0</td>\n",
       "      <td>0</td>\n",
       "      <td>0</td>\n",
       "      <td>0</td>\n",
       "      <td>0</td>\n",
       "      <td>...</td>\n",
       "      <td>0</td>\n",
       "      <td>0</td>\n",
       "      <td>0</td>\n",
       "      <td>0</td>\n",
       "      <td>0</td>\n",
       "      <td>0</td>\n",
       "      <td>0</td>\n",
       "      <td>0</td>\n",
       "      <td>0</td>\n",
       "      <td>0</td>\n",
       "    </tr>\n",
       "  </tbody>\n",
       "</table>\n",
       "<p>5 rows × 785 columns</p>\n",
       "</div>"
      ],
      "text/plain": [
       "   label  1x1  1x2  1x3  1x4  1x5  1x6  1x7  1x8  1x9  ...  28x19  28x20  \\\n",
       "0      0    0    0    0    0    0    0    0    0    0  ...      0      0   \n",
       "1      0    0    0    0    0    0    0    0    0    0  ...      0      0   \n",
       "2      0    0    0    0    0    0    0    0    0    0  ...      0      0   \n",
       "3      0    0    0    0    0    0    0    0    0    0  ...      0      0   \n",
       "4      0    0    0    0    0    0    0    0    0    0  ...      0      0   \n",
       "\n",
       "   28x21  28x22  28x23  28x24  28x25  28x26  28x27  28x28  \n",
       "0      0      0      0      0      0      0      0      0  \n",
       "1      0      0      0      0      0      0      0      0  \n",
       "2      0      0      0      0      0      0      0      0  \n",
       "3      0      0      0      0      0      0      0      0  \n",
       "4      0      0      0      0      0      0      0      0  \n",
       "\n",
       "[5 rows x 785 columns]"
      ]
     },
     "execution_count": 5,
     "metadata": {},
     "output_type": "execute_result"
    }
   ],
   "source": [
    "# Загружаем данные из CSV файла\n",
    "df = pd.read_csv(\"/Users/manya/Desktop/data/dz_2/mnist_small.csv\")\n",
    "# Пример данных\n",
    "df.head()"
   ]
  },
  {
   "cell_type": "code",
   "execution_count": 6,
   "metadata": {},
   "outputs": [
    {
     "name": "stdout",
     "output_type": "stream",
     "text": [
      "(5999, 784)\n"
     ]
    }
   ],
   "source": [
    "# Загружаем данные из SAS файла\n",
    "all_images = np.loadtxt('/Users/manya/Desktop/data/dz_2/mnist_small.csv',\\\n",
    "delimiter=',', skiprows=1)[:,1:]\n",
    "# Пример данных\n",
    "print(all_images.shape)"
   ]
  },
  {
   "cell_type": "code",
   "execution_count": 18,
   "metadata": {},
   "outputs": [
    {
     "name": "stdout",
     "output_type": "stream",
     "text": [
      "Массив первого изображения выглядит так: \n",
      " [  0.   0.   0.   0.   0.   0.   0.   0.   0.   0.   0.   0.   0.   0.\n",
      "   0.   0.   0.   0.   0.   0.   0.   0.   0.   0.   0.   0.   0.   0.\n",
      "   0.   0.   0.   0.   0.   0.   0.   0.   0.   0.   0.   0.   0.   0.\n",
      "   0.   0.   0.   0.   0.   0.   0.   0.   0.   0.   0.   0.   0.   0.\n",
      "   0.   0.   0.   0.   0.   0.   0.   0.   0.   0.   0.   0.   0.   0.\n",
      "   0.   0.   0.   0.   0.   0.   0.   0.   0.   0.   0.   0.   0.   0.\n",
      "   0.   0.   0.   0.   0.   0.   0.   0.   0.   0.   0.   0.   0.   0.\n",
      "   0.   0.   0.   0.   0.   0.   0.   0.   0.   0.   0.   0.   0.   0.\n",
      "   0.   0.   0.   0.   0.   0.   0.   0.   0.   0.   0.   0.   0.   0.\n",
      "   0.  51. 159. 253. 159.  50.   0.   0.   0.   0.   0.   0.   0.   0.\n",
      "   0.   0.   0.   0.   0.   0.   0.   0.   0.   0.   0.   0.   0.   0.\n",
      "  48. 238. 252. 252. 252. 237.   0.   0.   0.   0.   0.   0.   0.   0.\n",
      "   0.   0.   0.   0.   0.   0.   0.   0.   0.   0.   0.   0.   0.  54.\n",
      " 227. 253. 252. 239. 233. 252.  57.   6.   0.   0.   0.   0.   0.   0.\n",
      "   0.   0.   0.   0.   0.   0.   0.   0.   0.   0.   0.  10.  60. 224.\n",
      " 252. 253. 252. 202.  84. 252. 253. 122.   0.   0.   0.   0.   0.   0.\n",
      "   0.   0.   0.   0.   0.   0.   0.   0.   0.   0.   0. 163. 252. 252.\n",
      " 252. 253. 252. 252.  96. 189. 253. 167.   0.   0.   0.   0.   0.   0.\n",
      "   0.   0.   0.   0.   0.   0.   0.   0.   0.   0.  51. 238. 253. 253.\n",
      " 190. 114. 253. 228.  47.  79. 255. 168.   0.   0.   0.   0.   0.   0.\n",
      "   0.   0.   0.   0.   0.   0.   0.   0.   0.  48. 238. 252. 252. 179.\n",
      "  12.  75. 121.  21.   0.   0. 253. 243.  50.   0.   0.   0.   0.   0.\n",
      "   0.   0.   0.   0.   0.   0.   0.   0.  38. 165. 253. 233. 208.  84.\n",
      "   0.   0.   0.   0.   0.   0. 253. 252. 165.   0.   0.   0.   0.   0.\n",
      "   0.   0.   0.   0.   0.   0.   0.   7. 178. 252. 240.  71.  19.  28.\n",
      "   0.   0.   0.   0.   0.   0. 253. 252. 195.   0.   0.   0.   0.   0.\n",
      "   0.   0.   0.   0.   0.   0.   0.  57. 252. 252.  63.   0.   0.   0.\n",
      "   0.   0.   0.   0.   0.   0. 253. 252. 195.   0.   0.   0.   0.   0.\n",
      "   0.   0.   0.   0.   0.   0.   0. 198. 253. 190.   0.   0.   0.   0.\n",
      "   0.   0.   0.   0.   0.   0. 255. 253. 196.   0.   0.   0.   0.   0.\n",
      "   0.   0.   0.   0.   0.   0.  76. 246. 252. 112.   0.   0.   0.   0.\n",
      "   0.   0.   0.   0.   0.   0. 253. 252. 148.   0.   0.   0.   0.   0.\n",
      "   0.   0.   0.   0.   0.   0.  85. 252. 230.  25.   0.   0.   0.   0.\n",
      "   0.   0.   0.   0.   7. 135. 253. 186.  12.   0.   0.   0.   0.   0.\n",
      "   0.   0.   0.   0.   0.   0.  85. 252. 223.   0.   0.   0.   0.   0.\n",
      "   0.   0.   0.   7. 131. 252. 225.  71.   0.   0.   0.   0.   0.   0.\n",
      "   0.   0.   0.   0.   0.   0.  85. 252. 145.   0.   0.   0.   0.   0.\n",
      "   0.   0.  48. 165. 252. 173.   0.   0.   0.   0.   0.   0.   0.   0.\n",
      "   0.   0.   0.   0.   0.   0.  86. 253. 225.   0.   0.   0.   0.   0.\n",
      "   0. 114. 238. 253. 162.   0.   0.   0.   0.   0.   0.   0.   0.   0.\n",
      "   0.   0.   0.   0.   0.   0.  85. 252. 249. 146.  48.  29.  85. 178.\n",
      " 225. 253. 223. 167.  56.   0.   0.   0.   0.   0.   0.   0.   0.   0.\n",
      "   0.   0.   0.   0.   0.   0.  85. 252. 252. 252. 229. 215. 252. 252.\n",
      " 252. 196. 130.   0.   0.   0.   0.   0.   0.   0.   0.   0.   0.   0.\n",
      "   0.   0.   0.   0.   0.   0.  28. 199. 252. 252. 253. 252. 252. 233.\n",
      " 145.   0.   0.   0.   0.   0.   0.   0.   0.   0.   0.   0.   0.   0.\n",
      "   0.   0.   0.   0.   0.   0.   0.  25. 128. 252. 253. 252. 141.  37.\n",
      "   0.   0.   0.   0.   0.   0.   0.   0.   0.   0.   0.   0.   0.   0.\n",
      "   0.   0.   0.   0.   0.   0.   0.   0.   0.   0.   0.   0.   0.   0.\n",
      "   0.   0.   0.   0.   0.   0.   0.   0.   0.   0.   0.   0.   0.   0.\n",
      "   0.   0.   0.   0.   0.   0.   0.   0.   0.   0.   0.   0.   0.   0.\n",
      "   0.   0.   0.   0.   0.   0.   0.   0.   0.   0.   0.   0.   0.   0.\n",
      "   0.   0.   0.   0.   0.   0.   0.   0.   0.   0.   0.   0.   0.   0.\n",
      "   0.   0.   0.   0.   0.   0.   0.   0.   0.   0.   0.   0.   0.   0.\n",
      "   0.   0.   0.   0.   0.   0.   0.   0.   0.   0.   0.   0.   0.   0.\n",
      "   0.   0.   0.   0.   0.   0.   0.   0.   0.   0.   0.   0.   0.   0.]\n"
     ]
    },
    {
     "data": {
      "image/png": "[encoded data removed]",
      "text/plain": [
       "<Figure size 432x288 with 1 Axes>"
      ]
     },
     "metadata": {
      "needs_background": "light"
     },
     "output_type": "display_data"
    }
   ],
   "source": [
    "# Вывести массивное представление первого изображения\n",
    "#print('\\n', yellow('Массив первого изображения выглядит так:', 'bold'), '\\n')\n",
    "#print(all_images[0], '\\n')\n",
    "\n",
    "print(\"Массив первого изображения выглядит так:\", '\\n', all_images[0])\n",
    "\n",
    "# Вывести первое изображение\n",
    "#print('\\n', yellow('Изображение выглядит как:', 'bold'))\n",
    "plt.imshow(all_images[0].reshape(28,28),  cmap='Greys')\n",
    "plt.show()"
   ]
  },
  {
   "cell_type": "markdown",
   "metadata": {},
   "source": [
    "## Формирование признакового пространства\n",
    "\n",
    "Данный набор данных содержит подмножество эталонного набора данных рукописных цифр MNIST. 5923 картинок 28x28 пикселей с изображением нуля и 76 картинок с изображением шестерки. \n",
    "\n",
    "Задача состоит в том, чтобы с использованием методов обучения без учителя для своего варианта (AE) построить одноклассовую модель на основе поиска аномалий, которая максимально хорошо отфильтрует шестерки (как аномалии) от нулей (как основной выборки). Признаки картинок описываются их координатами (в названии переменных, например «10x12») и значением яркости точки по этим координатам."
   ]
  },
  {
   "cell_type": "markdown",
   "metadata": {},
   "source": [
    "# Сформируем признаковое пространство:\n",
    "# Целевая переменная: label. Описывает метку изображения: 0 (основная выборка) или 6 (аномалия)\n",
    "# Остальные переменные - входные.\n",
    "\n",
    "y = df[\"label\"]\n",
    "y[y > 0] = 1\n",
    "X = df.loc[:, sorted(list(set(df.columns) - {\"label\"}))]\n",
    "\n",
    "df_1 = df.copy()\n",
    "scaler = StandardScaler()\n",
    "df_1.values[:] = scaler.fit_transform(df_1)"
   ]
  },
  {
   "cell_type": "markdown",
   "metadata": {},
   "source": [
    "X_2 = X.values[:]\n",
    "#plt.scatter(X_2[:, 1], X_2[:, 1], c='blue')\n",
    "plt.scatter(X_2, X_2, c='blue')"
   ]
  },
  {
   "cell_type": "code",
   "execution_count": 21,
   "metadata": {},
   "outputs": [
    {
     "name": "stderr",
     "output_type": "stream",
     "text": [
      "/home/disfavour/.local/lib/python3.10/site-packages/sklearn/neural_network/_multilayer_perceptron.py:686: ConvergenceWarning: Stochastic Optimizer: Maximum iterations (100) reached and the optimization hasn't converged yet.\n",
      "  warnings.warn(\n"
     ]
    },
    {
     "data": {
      "text/plain": [
       "0.4832010805335134"
      ]
     },
     "execution_count": 21,
     "metadata": {},
     "output_type": "execute_result"
    },
    {
     "data": {
      "image/png": "[encoded data removed]",
      "text/plain": [
       "<Figure size 640x480 with 1 Axes>"
      ]
     },
     "metadata": {},
     "output_type": "display_data"
    }
   ],
   "source": [
    "from sklearn.metrics import roc_curve\n",
    "\n",
    "\n",
    "df_4 = pd.read_csv(\"mnist_small.csv\")\n",
    "df_4['label'] = df_4['label'].replace(6,1)\n",
    "X = df_4.copy()\n",
    "X = X.set_index(\"label\")\n",
    "X\n",
    "\n",
    "model = MLPRegressor(hidden_layer_sizes=(30,), max_iter=100, alpha=0.01, activation='tanh')\n",
    "model.fit(X, X)\n",
    "\n",
    "E = abs(X - model.predict(X))\n",
    "\n",
    "ET = np.apply_along_axis(np.linalg.norm, 1, E)\n",
    "\n",
    "\n",
    "rc = roc_curve(df_4[\"label\"], ET, pos_label=1)\n",
    "fpr, tpr, threshold = rc\n",
    "fnr = 1 - tpr\n",
    "eer_threshold = threshold[np.nanargmin(np.absolute((fnr - fpr)))]\n",
    "EER = fpr[np.nanargmin(np.absolute((fnr - fpr)))]\n",
    "\n",
    "plt.plot(tpr,fpr)\n",
    "plt.plot([0,1], [1,0])\n",
    "plt.plot([1-EER, 1-EER], [EER, 0],linestyle='dotted', color=\"grey\") \n",
    "plt.plot([0,1-EER], [EER, EER], linestyle= 'dotted', color=\"grey\")\n",
    "\n",
    "EER"
   ]
  },
  {
   "cell_type": "code",
   "execution_count": 6,
   "metadata": {},
   "outputs": [
    {
     "name": "stderr",
     "output_type": "stream",
     "text": [
      "/home/disfavour/.local/lib/python3.10/site-packages/sklearn/neural_network/_multilayer_perceptron.py:686: ConvergenceWarning: Stochastic Optimizer: Maximum iterations (100) reached and the optimization hasn't converged yet.\n",
      "  warnings.warn(\n"
     ]
    },
    {
     "data": {
      "text/html": [
       "<div>\n",
       "<style scoped>\n",
       "    .dataframe tbody tr th:only-of-type {\n",
       "        vertical-align: middle;\n",
       "    }\n",
       "\n",
       "    .dataframe tbody tr th {\n",
       "        vertical-align: top;\n",
       "    }\n",
       "\n",
       "    .dataframe thead th {\n",
       "        text-align: right;\n",
       "    }\n",
       "</style>\n",
       "<table border=\"1\" class=\"dataframe\">\n",
       "  <thead>\n",
       "    <tr style=\"text-align: right;\">\n",
       "      <th></th>\n",
       "      <th>1x1</th>\n",
       "      <th>1x2</th>\n",
       "      <th>1x3</th>\n",
       "      <th>1x4</th>\n",
       "      <th>1x5</th>\n",
       "      <th>1x6</th>\n",
       "      <th>1x7</th>\n",
       "      <th>1x8</th>\n",
       "      <th>1x9</th>\n",
       "      <th>1x10</th>\n",
       "      <th>...</th>\n",
       "      <th>28x19</th>\n",
       "      <th>28x20</th>\n",
       "      <th>28x21</th>\n",
       "      <th>28x22</th>\n",
       "      <th>28x23</th>\n",
       "      <th>28x24</th>\n",
       "      <th>28x25</th>\n",
       "      <th>28x26</th>\n",
       "      <th>28x27</th>\n",
       "      <th>28x28</th>\n",
       "    </tr>\n",
       "    <tr>\n",
       "      <th>label</th>\n",
       "      <th></th>\n",
       "      <th></th>\n",
       "      <th></th>\n",
       "      <th></th>\n",
       "      <th></th>\n",
       "      <th></th>\n",
       "      <th></th>\n",
       "      <th></th>\n",
       "      <th></th>\n",
       "      <th></th>\n",
       "      <th></th>\n",
       "      <th></th>\n",
       "      <th></th>\n",
       "      <th></th>\n",
       "      <th></th>\n",
       "      <th></th>\n",
       "      <th></th>\n",
       "      <th></th>\n",
       "      <th></th>\n",
       "      <th></th>\n",
       "      <th></th>\n",
       "    </tr>\n",
       "  </thead>\n",
       "  <tbody>\n",
       "    <tr>\n",
       "      <th>0</th>\n",
       "      <td>0.001112</td>\n",
       "      <td>0.000239</td>\n",
       "      <td>0.000074</td>\n",
       "      <td>0.000151</td>\n",
       "      <td>0.000531</td>\n",
       "      <td>0.000065</td>\n",
       "      <td>0.000057</td>\n",
       "      <td>0.001138</td>\n",
       "      <td>0.000089</td>\n",
       "      <td>0.000475</td>\n",
       "      <td>...</td>\n",
       "      <td>0.000876</td>\n",
       "      <td>0.000137</td>\n",
       "      <td>0.000425</td>\n",
       "      <td>0.000278</td>\n",
       "      <td>0.000373</td>\n",
       "      <td>0.000639</td>\n",
       "      <td>0.000456</td>\n",
       "      <td>0.000285</td>\n",
       "      <td>0.000509</td>\n",
       "      <td>0.00187</td>\n",
       "    </tr>\n",
       "    <tr>\n",
       "      <th>0</th>\n",
       "      <td>0.001112</td>\n",
       "      <td>0.000239</td>\n",
       "      <td>0.000074</td>\n",
       "      <td>0.000151</td>\n",
       "      <td>0.000531</td>\n",
       "      <td>0.000065</td>\n",
       "      <td>0.000057</td>\n",
       "      <td>0.001138</td>\n",
       "      <td>0.000089</td>\n",
       "      <td>0.000475</td>\n",
       "      <td>...</td>\n",
       "      <td>0.000876</td>\n",
       "      <td>0.000137</td>\n",
       "      <td>0.000425</td>\n",
       "      <td>0.000278</td>\n",
       "      <td>0.000373</td>\n",
       "      <td>0.000639</td>\n",
       "      <td>0.000456</td>\n",
       "      <td>0.000285</td>\n",
       "      <td>0.000509</td>\n",
       "      <td>0.00187</td>\n",
       "    </tr>\n",
       "    <tr>\n",
       "      <th>0</th>\n",
       "      <td>0.001112</td>\n",
       "      <td>0.000239</td>\n",
       "      <td>0.000074</td>\n",
       "      <td>0.000151</td>\n",
       "      <td>0.000531</td>\n",
       "      <td>0.000065</td>\n",
       "      <td>0.000057</td>\n",
       "      <td>0.001138</td>\n",
       "      <td>0.000089</td>\n",
       "      <td>0.000475</td>\n",
       "      <td>...</td>\n",
       "      <td>0.000876</td>\n",
       "      <td>0.000137</td>\n",
       "      <td>0.000425</td>\n",
       "      <td>0.000278</td>\n",
       "      <td>0.000373</td>\n",
       "      <td>0.000639</td>\n",
       "      <td>0.000456</td>\n",
       "      <td>0.000285</td>\n",
       "      <td>0.000509</td>\n",
       "      <td>0.00187</td>\n",
       "    </tr>\n",
       "    <tr>\n",
       "      <th>0</th>\n",
       "      <td>0.001112</td>\n",
       "      <td>0.000239</td>\n",
       "      <td>0.000074</td>\n",
       "      <td>0.000151</td>\n",
       "      <td>0.000531</td>\n",
       "      <td>0.000065</td>\n",
       "      <td>0.000057</td>\n",
       "      <td>0.001138</td>\n",
       "      <td>0.000089</td>\n",
       "      <td>0.000475</td>\n",
       "      <td>...</td>\n",
       "      <td>0.000876</td>\n",
       "      <td>0.000137</td>\n",
       "      <td>0.000425</td>\n",
       "      <td>0.000278</td>\n",
       "      <td>0.000373</td>\n",
       "      <td>0.000639</td>\n",
       "      <td>0.000456</td>\n",
       "      <td>0.000285</td>\n",
       "      <td>0.000509</td>\n",
       "      <td>0.00187</td>\n",
       "    </tr>\n",
       "    <tr>\n",
       "      <th>0</th>\n",
       "      <td>0.001112</td>\n",
       "      <td>0.000239</td>\n",
       "      <td>0.000074</td>\n",
       "      <td>0.000151</td>\n",
       "      <td>0.000531</td>\n",
       "      <td>0.000065</td>\n",
       "      <td>0.000057</td>\n",
       "      <td>0.001138</td>\n",
       "      <td>0.000089</td>\n",
       "      <td>0.000475</td>\n",
       "      <td>...</td>\n",
       "      <td>0.000876</td>\n",
       "      <td>0.000137</td>\n",
       "      <td>0.000425</td>\n",
       "      <td>0.000278</td>\n",
       "      <td>0.000373</td>\n",
       "      <td>0.000639</td>\n",
       "      <td>0.000456</td>\n",
       "      <td>0.000285</td>\n",
       "      <td>0.000509</td>\n",
       "      <td>0.00187</td>\n",
       "    </tr>\n",
       "    <tr>\n",
       "      <th>...</th>\n",
       "      <td>...</td>\n",
       "      <td>...</td>\n",
       "      <td>...</td>\n",
       "      <td>...</td>\n",
       "      <td>...</td>\n",
       "      <td>...</td>\n",
       "      <td>...</td>\n",
       "      <td>...</td>\n",
       "      <td>...</td>\n",
       "      <td>...</td>\n",
       "      <td>...</td>\n",
       "      <td>...</td>\n",
       "      <td>...</td>\n",
       "      <td>...</td>\n",
       "      <td>...</td>\n",
       "      <td>...</td>\n",
       "      <td>...</td>\n",
       "      <td>...</td>\n",
       "      <td>...</td>\n",
       "      <td>...</td>\n",
       "      <td>...</td>\n",
       "    </tr>\n",
       "    <tr>\n",
       "      <th>1</th>\n",
       "      <td>0.001112</td>\n",
       "      <td>0.000239</td>\n",
       "      <td>0.000074</td>\n",
       "      <td>0.000151</td>\n",
       "      <td>0.000531</td>\n",
       "      <td>0.000065</td>\n",
       "      <td>0.000057</td>\n",
       "      <td>0.001138</td>\n",
       "      <td>0.000089</td>\n",
       "      <td>0.000475</td>\n",
       "      <td>...</td>\n",
       "      <td>0.000876</td>\n",
       "      <td>0.000137</td>\n",
       "      <td>0.000425</td>\n",
       "      <td>0.000278</td>\n",
       "      <td>0.000373</td>\n",
       "      <td>0.000639</td>\n",
       "      <td>0.000456</td>\n",
       "      <td>0.000285</td>\n",
       "      <td>0.000509</td>\n",
       "      <td>0.00187</td>\n",
       "    </tr>\n",
       "    <tr>\n",
       "      <th>1</th>\n",
       "      <td>0.001112</td>\n",
       "      <td>0.000239</td>\n",
       "      <td>0.000074</td>\n",
       "      <td>0.000151</td>\n",
       "      <td>0.000531</td>\n",
       "      <td>0.000065</td>\n",
       "      <td>0.000057</td>\n",
       "      <td>0.001138</td>\n",
       "      <td>0.000089</td>\n",
       "      <td>0.000475</td>\n",
       "      <td>...</td>\n",
       "      <td>0.000876</td>\n",
       "      <td>0.000137</td>\n",
       "      <td>0.000425</td>\n",
       "      <td>0.000278</td>\n",
       "      <td>0.000373</td>\n",
       "      <td>0.000639</td>\n",
       "      <td>0.000456</td>\n",
       "      <td>0.000285</td>\n",
       "      <td>0.000509</td>\n",
       "      <td>0.00187</td>\n",
       "    </tr>\n",
       "    <tr>\n",
       "      <th>1</th>\n",
       "      <td>0.001112</td>\n",
       "      <td>0.000239</td>\n",
       "      <td>0.000074</td>\n",
       "      <td>0.000151</td>\n",
       "      <td>0.000531</td>\n",
       "      <td>0.000065</td>\n",
       "      <td>0.000057</td>\n",
       "      <td>0.001138</td>\n",
       "      <td>0.000089</td>\n",
       "      <td>0.000475</td>\n",
       "      <td>...</td>\n",
       "      <td>0.000876</td>\n",
       "      <td>0.000137</td>\n",
       "      <td>0.000425</td>\n",
       "      <td>0.000278</td>\n",
       "      <td>0.000373</td>\n",
       "      <td>0.000639</td>\n",
       "      <td>0.000456</td>\n",
       "      <td>0.000285</td>\n",
       "      <td>0.000509</td>\n",
       "      <td>0.00187</td>\n",
       "    </tr>\n",
       "    <tr>\n",
       "      <th>1</th>\n",
       "      <td>0.001112</td>\n",
       "      <td>0.000239</td>\n",
       "      <td>0.000074</td>\n",
       "      <td>0.000151</td>\n",
       "      <td>0.000531</td>\n",
       "      <td>0.000065</td>\n",
       "      <td>0.000057</td>\n",
       "      <td>0.001138</td>\n",
       "      <td>0.000089</td>\n",
       "      <td>0.000475</td>\n",
       "      <td>...</td>\n",
       "      <td>0.000876</td>\n",
       "      <td>0.000137</td>\n",
       "      <td>0.000425</td>\n",
       "      <td>0.000278</td>\n",
       "      <td>0.000373</td>\n",
       "      <td>0.000639</td>\n",
       "      <td>0.000456</td>\n",
       "      <td>0.000285</td>\n",
       "      <td>0.000509</td>\n",
       "      <td>0.00187</td>\n",
       "    </tr>\n",
       "    <tr>\n",
       "      <th>1</th>\n",
       "      <td>0.001112</td>\n",
       "      <td>0.000239</td>\n",
       "      <td>0.000074</td>\n",
       "      <td>0.000151</td>\n",
       "      <td>0.000531</td>\n",
       "      <td>0.000065</td>\n",
       "      <td>0.000057</td>\n",
       "      <td>0.001138</td>\n",
       "      <td>0.000089</td>\n",
       "      <td>0.000475</td>\n",
       "      <td>...</td>\n",
       "      <td>0.000876</td>\n",
       "      <td>0.000137</td>\n",
       "      <td>0.000425</td>\n",
       "      <td>0.000278</td>\n",
       "      <td>0.000373</td>\n",
       "      <td>0.000639</td>\n",
       "      <td>0.000456</td>\n",
       "      <td>0.000285</td>\n",
       "      <td>0.000509</td>\n",
       "      <td>0.00187</td>\n",
       "    </tr>\n",
       "  </tbody>\n",
       "</table>\n",
       "<p>5999 rows × 784 columns</p>\n",
       "</div>"
      ],
      "text/plain": [
       "            1x1       1x2       1x3       1x4       1x5       1x6       1x7  \\\n",
       "label                                                                         \n",
       "0      0.001112  0.000239  0.000074  0.000151  0.000531  0.000065  0.000057   \n",
       "0      0.001112  0.000239  0.000074  0.000151  0.000531  0.000065  0.000057   \n",
       "0      0.001112  0.000239  0.000074  0.000151  0.000531  0.000065  0.000057   \n",
       "0      0.001112  0.000239  0.000074  0.000151  0.000531  0.000065  0.000057   \n",
       "0      0.001112  0.000239  0.000074  0.000151  0.000531  0.000065  0.000057   \n",
       "...         ...       ...       ...       ...       ...       ...       ...   \n",
       "1      0.001112  0.000239  0.000074  0.000151  0.000531  0.000065  0.000057   \n",
       "1      0.001112  0.000239  0.000074  0.000151  0.000531  0.000065  0.000057   \n",
       "1      0.001112  0.000239  0.000074  0.000151  0.000531  0.000065  0.000057   \n",
       "1      0.001112  0.000239  0.000074  0.000151  0.000531  0.000065  0.000057   \n",
       "1      0.001112  0.000239  0.000074  0.000151  0.000531  0.000065  0.000057   \n",
       "\n",
       "            1x8       1x9      1x10  ...     28x19     28x20     28x21  \\\n",
       "label                                ...                                 \n",
       "0      0.001138  0.000089  0.000475  ...  0.000876  0.000137  0.000425   \n",
       "0      0.001138  0.000089  0.000475  ...  0.000876  0.000137  0.000425   \n",
       "0      0.001138  0.000089  0.000475  ...  0.000876  0.000137  0.000425   \n",
       "0      0.001138  0.000089  0.000475  ...  0.000876  0.000137  0.000425   \n",
       "0      0.001138  0.000089  0.000475  ...  0.000876  0.000137  0.000425   \n",
       "...         ...       ...       ...  ...       ...       ...       ...   \n",
       "1      0.001138  0.000089  0.000475  ...  0.000876  0.000137  0.000425   \n",
       "1      0.001138  0.000089  0.000475  ...  0.000876  0.000137  0.000425   \n",
       "1      0.001138  0.000089  0.000475  ...  0.000876  0.000137  0.000425   \n",
       "1      0.001138  0.000089  0.000475  ...  0.000876  0.000137  0.000425   \n",
       "1      0.001138  0.000089  0.000475  ...  0.000876  0.000137  0.000425   \n",
       "\n",
       "          28x22     28x23     28x24     28x25     28x26     28x27    28x28  \n",
       "label                                                                       \n",
       "0      0.000278  0.000373  0.000639  0.000456  0.000285  0.000509  0.00187  \n",
       "0      0.000278  0.000373  0.000639  0.000456  0.000285  0.000509  0.00187  \n",
       "0      0.000278  0.000373  0.000639  0.000456  0.000285  0.000509  0.00187  \n",
       "0      0.000278  0.000373  0.000639  0.000456  0.000285  0.000509  0.00187  \n",
       "0      0.000278  0.000373  0.000639  0.000456  0.000285  0.000509  0.00187  \n",
       "...         ...       ...       ...       ...       ...       ...      ...  \n",
       "1      0.000278  0.000373  0.000639  0.000456  0.000285  0.000509  0.00187  \n",
       "1      0.000278  0.000373  0.000639  0.000456  0.000285  0.000509  0.00187  \n",
       "1      0.000278  0.000373  0.000639  0.000456  0.000285  0.000509  0.00187  \n",
       "1      0.000278  0.000373  0.000639  0.000456  0.000285  0.000509  0.00187  \n",
       "1      0.000278  0.000373  0.000639  0.000456  0.000285  0.000509  0.00187  \n",
       "\n",
       "[5999 rows x 784 columns]"
      ]
     },
     "execution_count": 6,
     "metadata": {},
     "output_type": "execute_result"
    }
   ],
   "source": [
    "\n",
    "\n",
    "E = abs(X - model.predict(X))\n",
    "E\n",
    "#ET = np.apply_along_axis(np.linalg.norm, 1, E)\n",
    "\n",
    "#X_anom = X[ET>pd.DataFrame(ET).quantile(q=0.95)[0]]\n"
   ]
  },
  {
   "cell_type": "code",
   "execution_count": 16,
   "metadata": {},
   "outputs": [
    {
     "data": {
      "text/plain": [
       "(5999,)"
      ]
     },
     "execution_count": 16,
     "metadata": {},
     "output_type": "execute_result"
    }
   ],
   "source": [
    "ET = np.apply_along_axis(np.linalg.norm, 1, E)\n",
    "ET.shape"
   ]
  },
  {
   "cell_type": "code",
   "execution_count": 12,
   "metadata": {},
   "outputs": [
    {
     "data": {
      "text/plain": [
       "0       1817.112949\n",
       "1       1975.873525\n",
       "2       2161.400398\n",
       "3       2063.286493\n",
       "4       2271.239543\n",
       "           ...     \n",
       "5994    2050.513533\n",
       "5995    2204.894666\n",
       "5996    2084.097525\n",
       "5997    2336.491879\n",
       "5998    1961.840656\n",
       "Name: pred, Length: 5999, dtype: float64"
      ]
     },
     "execution_count": 12,
     "metadata": {},
     "output_type": "execute_result"
    }
   ],
   "source": [
    "df_4[\"pred\"] = ET\n",
    "df_4[\"pred\"]"
   ]
  },
  {
   "cell_type": "code",
   "execution_count": 9,
   "metadata": {},
   "outputs": [
    {
     "data": {
      "text/plain": [
       "0       0\n",
       "1       0\n",
       "2       0\n",
       "3       0\n",
       "4       0\n",
       "       ..\n",
       "5994    1\n",
       "5995    1\n",
       "5996    1\n",
       "5997    1\n",
       "5998    1\n",
       "Name: label, Length: 5999, dtype: int64"
      ]
     },
     "execution_count": 9,
     "metadata": {},
     "output_type": "execute_result"
    }
   ],
   "source": [
    "df_4[\"label\"]"
   ]
  },
  {
   "cell_type": "code",
   "execution_count": 18,
   "metadata": {},
   "outputs": [
    {
     "data": {
      "text/plain": [
       "array([0.00000000e+00, 1.68833361e-04, 9.96116833e-03, 9.96116833e-03,\n",
       "       8.35725139e-02, 8.35725139e-02, 9.60661827e-02, 9.60661827e-02,\n",
       "       1.55495526e-01, 1.55495526e-01, 1.57690360e-01, 1.57690360e-01,\n",
       "       1.79469863e-01, 1.79469863e-01, 1.79638697e-01, 1.79638697e-01,\n",
       "       1.90444032e-01, 1.90444032e-01, 1.90781698e-01, 1.90781698e-01,\n",
       "       1.92301199e-01, 1.92301199e-01, 1.99392200e-01, 1.99392200e-01,\n",
       "       2.02262367e-01, 2.02262367e-01, 2.19145703e-01, 2.19145703e-01,\n",
       "       2.19989870e-01, 2.19989870e-01, 2.31301705e-01, 2.31301705e-01,\n",
       "       2.49198042e-01, 2.49198042e-01, 2.52574709e-01, 2.52574709e-01,\n",
       "       2.87354381e-01, 2.87354381e-01, 2.90562215e-01, 2.90562215e-01,\n",
       "       2.95627216e-01, 2.95627216e-01, 3.12848219e-01, 3.12848219e-01,\n",
       "       3.25173054e-01, 3.25173054e-01, 3.39692723e-01, 3.39692723e-01,\n",
       "       3.53199392e-01, 3.53199392e-01, 3.58602060e-01, 3.58602060e-01,\n",
       "       3.75316563e-01, 3.75316563e-01, 3.76329563e-01, 3.76329563e-01,\n",
       "       3.78524396e-01, 3.78524396e-01, 3.84095897e-01, 3.84095897e-01,\n",
       "       4.03342901e-01, 4.03342901e-01, 4.07563735e-01, 4.07563735e-01,\n",
       "       4.15836569e-01, 4.15836569e-01, 4.34239406e-01, 4.34239406e-01,\n",
       "       4.36603073e-01, 4.36603073e-01, 4.43694074e-01, 4.43694074e-01,\n",
       "       4.44538241e-01, 4.44538241e-01, 4.49772075e-01, 4.49772075e-01,\n",
       "       4.53317576e-01, 4.53317576e-01, 4.83369914e-01, 4.83369914e-01,\n",
       "       4.84214081e-01, 4.84214081e-01, 4.88772581e-01, 4.88772581e-01,\n",
       "       5.03798751e-01, 5.03798751e-01, 5.12409252e-01, 5.12409252e-01,\n",
       "       5.14097586e-01, 5.14097586e-01, 5.31825089e-01, 5.31825089e-01,\n",
       "       5.40773257e-01, 5.40773257e-01, 5.63228094e-01, 5.63228094e-01,\n",
       "       5.66098261e-01, 5.66098261e-01, 5.66267094e-01, 5.66267094e-01,\n",
       "       5.68461928e-01, 5.68461928e-01, 5.79942597e-01, 5.79942597e-01,\n",
       "       5.82812764e-01, 5.82812764e-01, 5.84163431e-01, 5.84163431e-01,\n",
       "       5.89734932e-01, 5.89734932e-01, 5.91423265e-01, 5.91423265e-01,\n",
       "       5.94631099e-01, 5.94631099e-01, 6.14891102e-01, 6.14891102e-01,\n",
       "       6.16579436e-01, 6.16579436e-01, 6.27891271e-01, 6.27891271e-01,\n",
       "       6.41229107e-01, 6.41229107e-01, 6.88333615e-01, 6.88333615e-01,\n",
       "       7.24632787e-01, 7.24632787e-01, 7.54853959e-01, 7.54853959e-01,\n",
       "       7.70724295e-01, 7.70724295e-01, 8.36738139e-01, 8.36738139e-01,\n",
       "       8.48218808e-01, 8.48218808e-01, 8.54972142e-01, 8.54972142e-01,\n",
       "       8.82154314e-01, 8.82154314e-01, 9.02751984e-01, 9.02751984e-01,\n",
       "       9.15076819e-01, 9.15076819e-01, 9.19804153e-01, 9.19804153e-01,\n",
       "       9.32973155e-01, 9.32973155e-01, 9.33310822e-01, 9.33310822e-01,\n",
       "       9.54583826e-01, 9.54583826e-01, 9.84467331e-01, 9.84467331e-01,\n",
       "       1.00000000e+00])"
      ]
     },
     "execution_count": 18,
     "metadata": {},
     "output_type": "execute_result"
    }
   ],
   "source": [
    "from sklearn.metrics import roc_curve\n",
    "rc = roc_curve(df_4[\"label\"], df_4[\"pred\"], pos_label=1)\n",
    "fpr, tpr, threshold = rc\n",
    "fpr"
   ]
  },
  {
   "cell_type": "code",
   "execution_count": 19,
   "metadata": {},
   "outputs": [
    {
     "data": {
      "text/plain": [
       "0.4842140807023468"
      ]
     },
     "execution_count": 19,
     "metadata": {},
     "output_type": "execute_result"
    }
   ],
   "source": [
    "fnr = 1 - tpr\n",
    "eer_threshold = threshold[np.nanargmin(np.absolute((fnr - fpr)))]\n",
    "EER = fpr[np.nanargmin(np.absolute((fnr - fpr)))]\n",
    "EER"
   ]
  },
  {
   "cell_type": "code",
   "execution_count": 20,
   "metadata": {},
   "outputs": [
    {
     "data": {
      "text/plain": [
       "[<matplotlib.lines.Line2D at 0x7f5100686140>]"
      ]
     },
     "execution_count": 20,
     "metadata": {},
     "output_type": "execute_result"
    },
    {
     "data": {
      "image/png": "[encoded data removed]",
      "text/plain": [
       "<Figure size 640x480 with 1 Axes>"
      ]
     },
     "metadata": {},
     "output_type": "display_data"
    }
   ],
   "source": [
    "plt.plot(tpr,fpr)\n",
    "plt.plot([0,1], [1,0])\n",
    "plt.plot([1-EER, 1-EER], [EER, 0],linestyle='dotted', color=\"grey\") \n",
    "plt.plot([0,1-EER], [EER, EER], linestyle= 'dotted', color=\"grey\")"
   ]
  },
  {
   "cell_type": "code",
   "execution_count": 15,
   "metadata": {},
   "outputs": [
    {
     "data": {
      "text/plain": [
       "((3,), (3,), (3,))"
      ]
     },
     "execution_count": 15,
     "metadata": {},
     "output_type": "execute_result"
    }
   ],
   "source": [
    "fpr.shape, tpr.shape, threshold.shape"
   ]
  },
  {
   "cell_type": "code",
   "execution_count": 19,
   "metadata": {},
   "outputs": [
    {
     "name": "stderr",
     "output_type": "stream",
     "text": [
      "/Users/manya/anaconda3/lib/python3.9/site-packages/sklearn/metrics/_ranking.py:999: UndefinedMetricWarning: No positive samples in y_true, true positive value should be meaningless\n",
      "  warnings.warn(\n"
     ]
    },
    {
     "ename": "ValueError",
     "evalue": "All-NaN slice encountered",
     "output_type": "error",
     "traceback": [
      "\u001b[0;31m---------------------------------------------------------------------------\u001b[0m",
      "\u001b[0;31mValueError\u001b[0m                                Traceback (most recent call last)",
      "\u001b[1;32m/Users/manya/Desktop/data/dz_2/dz_2_2_data.ipynb Ячейка 14\u001b[0m in \u001b[0;36m<cell line: 5>\u001b[0;34m()\u001b[0m\n\u001b[1;32m      <a href='vscode-notebook-cell:/Users/manya/Desktop/data/dz_2/dz_2_2_data.ipynb#X42sZmlsZQ%3D%3D?line=2'>3</a>\u001b[0m fpr, tpr, threshold \u001b[39m=\u001b[39m rc\n\u001b[1;32m      <a href='vscode-notebook-cell:/Users/manya/Desktop/data/dz_2/dz_2_2_data.ipynb#X42sZmlsZQ%3D%3D?line=3'>4</a>\u001b[0m fnr \u001b[39m=\u001b[39m \u001b[39m1\u001b[39m \u001b[39m-\u001b[39m tpr\n\u001b[0;32m----> <a href='vscode-notebook-cell:/Users/manya/Desktop/data/dz_2/dz_2_2_data.ipynb#X42sZmlsZQ%3D%3D?line=4'>5</a>\u001b[0m eer_threshold \u001b[39m=\u001b[39m threshold[np\u001b[39m.\u001b[39;49mnanargmin(np\u001b[39m.\u001b[39;49mabsolute((fnr \u001b[39m-\u001b[39;49m fpr)))]\n\u001b[1;32m      <a href='vscode-notebook-cell:/Users/manya/Desktop/data/dz_2/dz_2_2_data.ipynb#X42sZmlsZQ%3D%3D?line=5'>6</a>\u001b[0m EER \u001b[39m=\u001b[39m fpr[np\u001b[39m.\u001b[39mnanargmin(np\u001b[39m.\u001b[39mabsolute((fnr \u001b[39m-\u001b[39m fpr)))]\n",
      "File \u001b[0;32m<__array_function__ internals>:5\u001b[0m, in \u001b[0;36mnanargmin\u001b[0;34m(*args, **kwargs)\u001b[0m\n",
      "File \u001b[0;32m~/anaconda3/lib/python3.9/site-packages/numpy/lib/nanfunctions.py:499\u001b[0m, in \u001b[0;36mnanargmin\u001b[0;34m(a, axis)\u001b[0m\n\u001b[1;32m    497\u001b[0m     mask \u001b[39m=\u001b[39m np\u001b[39m.\u001b[39mall(mask, axis\u001b[39m=\u001b[39maxis)\n\u001b[1;32m    498\u001b[0m     \u001b[39mif\u001b[39;00m np\u001b[39m.\u001b[39many(mask):\n\u001b[0;32m--> 499\u001b[0m         \u001b[39mraise\u001b[39;00m \u001b[39mValueError\u001b[39;00m(\u001b[39m\"\u001b[39m\u001b[39mAll-NaN slice encountered\u001b[39m\u001b[39m\"\u001b[39m)\n\u001b[1;32m    500\u001b[0m \u001b[39mreturn\u001b[39;00m res\n",
      "\u001b[0;31mValueError\u001b[0m: All-NaN slice encountered"
     ]
    }
   ],
   "source": [
    "from sklearn.metrics import roc_curve\n",
    "rc = roc_curve(df_4[\"label\"], ET, pos_label=6)\n",
    "fpr, tpr, threshold = rc\n",
    "fnr = 1 - tpr\n",
    "eer_threshold = threshold[np.nanargmin(np.absolute((fnr - fpr)))]\n",
    "EER = fpr[np.nanargmin(np.absolute((fnr - fpr)))]"
   ]
  },
  {
   "cell_type": "code",
   "execution_count": null,
   "metadata": {},
   "outputs": [],
   "source": [
    "plt.plot(tpr,fpr)\n",
    "plt.plot([0,1], [1,0])\n",
    "plt.plot([1-EER, 1-EER], [EER, 0],linestyle='dotted', color=\"grey\") \n",
    "plt.plot([0,1-EER], [EER, EER], linestyle= 'dotted', color=\"grey\")"
   ]
  },
  {
   "cell_type": "markdown",
   "metadata": {},
   "source": [
    "def rmlabel(dfc:pd.DataFrame):\n",
    "    if 'label' in dfc.columns:\n",
    "        df1 = dfc.drop(columns='label')\n",
    "        df2 = dfc.label\n",
    "        return df1,df2\n",
    "    else:\n",
    "        return dfc,0\n",
    "\n",
    "def imshow(inp, title=None, plt_ax=plt, default=False):\n",
    "    plt_ax.imshow(inp)\n",
    "    if title is not None:\n",
    "        plt_ax.set_title(title)\n",
    "    plt_ax.grid(False)\n",
    "    plt_ax.axis('off')\n",
    "    plt.set_cmap('gray')"
   ]
  },
  {
   "cell_type": "code",
   "execution_count": 15,
   "metadata": {},
   "outputs": [
    {
     "data": {
      "image/png": "[encoded data removed]",
      "text/plain": [
       "<Figure size 576x288 with 15 Axes>"
      ]
     },
     "metadata": {
      "needs_background": "light"
     },
     "output_type": "display_data"
    }
   ],
   "source": [
    "df_1 = df.copy()\n",
    "\n",
    "sm = pd.concat([df_1[df_1['label'] == 0].sample(n=10),df_1[df_1['label'] == 6].sample(n=5)])\n",
    "fig, ax = plt.subplots(nrows=3, ncols=5,figsize=(8, 4),sharey=True, sharex=True)\n",
    "for id,fig_x in enumerate(ax.flatten()):\n",
    "    imshow(np.array(sm.iloc[id][1:].values).reshape(28,-1),plt_ax=fig_x)\n",
    "fig.tight_layout()\n",
    "    "
   ]
  },
  {
   "cell_type": "markdown",
   "metadata": {},
   "source": [
    "df1,df2 = rmlabel(df_1)\n",
    "model = MLPRegressor(hidden_layer_sizes=(30,), max_iter=100, alpha=0.01, activation='tanh')\n",
    "clf = model.fit(df1, df1)\n",
    "\n",
    "E = abs(df1 - model.predict(df1))\n",
    "ET = np.apply_along_axis(np.linalg.norm, 1, E)\n",
    "\n",
    "X_anom = df_1[ET>pd.DataFrame(ET).quantile(q=0.95)[0]]\n",
    "\n",
    "X_Y2 = model.feature_names_in_\n",
    "fpr, tpr, threshold = roc_curve(df.label, X_Y2, pos_label=6)\n",
    "fnr = 1 - tpr\n",
    "eer_threshold = threshold[np.nanargmin(np.absolute((fnr - fpr)))]\n",
    "EER = fpr[np.nanargmin(np.absolute(fnr - fpr))]\n",
    "\n",
    "print(f'ERR = ({1 - EER:.4f},{EER:.4f})')\n",
    "plt.plot(tpr, fpr)\n",
    "plt.plot([0, 1], [1, 0])\n",
    "plt.show()\n",
    "\n",
    "dfn = df.join(pd.Series(model.feature_names_in_, name='tpr'))\n",
    "print(dfn, 1 - EER)"
   ]
  },
  {
   "cell_type": "markdown",
   "metadata": {},
   "source": [
    "df1, df2 = rmlabel(df_2)\n",
    "\n",
    "\n",
    "kernel_pca = MLPRegressor(hidden_layer_sizes=(30,), max_iter=1000, alpha=0.01, activation='tanh')"
   ]
  },
  {
   "cell_type": "markdown",
   "metadata": {},
   "source": [
    "df_1 = df.copy()\n",
    "\n",
    "df_1 = df_1.set_index(\"label\")\n",
    "\n",
    "scaler = StandardScaler()\n",
    "df_1.values[:] = scaler.fit_transform(df_1)\n",
    "\n",
    "kernel_pca = MLPRegressor(hidden_layer_sizes=(30,), max_iter=1000, alpha=0.01, activation='tanh')\n",
    "\n",
    "X_one = kernel_pca.fit(df_1, df_1)\n",
    "\n",
    "\n",
    "\n",
    "\n",
    "E = abs(df_1-kernel_pca.predict(df_1))\n",
    "\n",
    "\n",
    "ET = np.apply_along_axis(np.linalg.norm, 1, E)\n",
    "\n",
    "\n",
    "ndf = df_1[ET>pd.DataFrame(ET).quantile(q=0.9)[0]]\n",
    "\n",
    "print(type(ndf))\n",
    "\n",
    "print(ndf[ndf[\"label\"] == 6].shape[0] / 76)\n",
    "print((76 - ndf[ndf[\"label\"] == 6].shape[0] + ndf[ndf[\"label\"] == 0].shape[0])/ 5999)\n",
    "\n",
    "X_anom = df_1[ET>pd.DataFrame(ET).quantile(q=0.95)[0]]\n",
    "X_anom_pca = X_one[ET>pd.DataFrame(ET).quantile(q=0.9)[0]]\n",
    "\n",
    "\n",
    "plt.scatter(X_one[:, 0], X_one[:, 1], c=ET)\n",
    "plt.scatter(X_anom_pca[:, 0], X_anom_pca[:, 1], c=\"red\")\n",
    "plt.xlabel(\"PC1\")\n",
    "plt.ylabel(\"PC2\")\n",
    "plt.title(\"Projection using Kernel PCA\")\n",
    "plt.show()"
   ]
  },
  {
   "cell_type": "markdown",
   "metadata": {},
   "source": [
    "def plot_roc_curve(y_true, y_pred):\n",
    "    fpr, tpr, threshold = metrics.roc_curve(y_true, y_pred)\n",
    "    roc_auc = metrics.auc(fpr, tpr)\n",
    "\n",
    "    plt.title('Receiver Operating Characteristic')\n",
    "    plt.plot(fpr, tpr, 'b', label = 'AUC = %0.3f' % roc_auc)\n",
    "    plt.legend(loc = 'lower right')\n",
    "    plt.plot([0, 1], [1, 0], 'r--')\n",
    "    plt.xlim([0, 1])\n",
    "    plt.ylim([0, 1])\n",
    "    plt.ylabel('True Positive Rate')\n",
    "    plt.xlabel('False Positive Rate')\n",
    "    plt.show()\n",
    "\n",
    "ndf1 = ndf.copy()\n",
    "ndf1[\"label_p\"] = 0"
   ]
  },
  {
   "cell_type": "markdown",
   "metadata": {},
   "source": [
    "df_2 = df_1.copy()\n",
    "df_2[\"labelp\"] = 0\n",
    "tmp = df_2[ET>pd.DataFrame(ET).quantile(q=0.9)[0]]\n",
    "\n",
    "for i in list(tmp.index):\n",
    "    df_2.iloc[i][\"labelp\"] = 1\n",
    "\n",
    "# y = df12[\"label\"]\n",
    "# y[y > 0] = 1\n",
    "\n",
    "rc = metrics.roc_curve(df_2[\"label\"], df_2[\"labelp\"], pos_label=1)\n",
    "\n",
    "fpr, tpr, threshold = rc\n",
    "fnr = 1 - tpr\n",
    "err_threshold = threshold[np.nanargmin(np.absolute((fnr - fpr)))]\n",
    "EER = fpr[np.nanargmin(np.absolute((fnr - fpr)))]\n",
    "\n",
    "plt.plot(tpr, fpr)\n",
    "plt.plot([0, 1], [1, 0])\n",
    "plt.plot([1 - EER, 1 - EER], [EER, 0], linestyle=\"dotted\", color=\"grey\")\n",
    "plt.plot([0, 1 - EER], [EER, EER], linestyle=\"dotted\", color=\"grey\")\n",
    "plt.show()"
   ]
  },
  {
   "cell_type": "markdown",
   "metadata": {},
   "source": [
    "X_2 = df_1.copy()\n",
    "\n",
    "from sklearn.neural_network import MLPRegressor\n",
    "model = MLPRegressor(hidden_layer_sizes=(30,), max_iter=1000, alpha=0.01, activation='tanh')\n",
    "model.fit(X_2, X_2)\n",
    "\n",
    "E = abs(X_2-model.predict(X_2))\n",
    "\n",
    "ET=np.apply_along_axis(np.linalg.norm, 1, E)\n",
    "X_anom = X_2[ET>pd.DataFrame(ET).quantile(q=0.95)[0]]\n",
    "\n",
    "#plt.figure(figsize = (7, 4))\n",
    "#plt. scatter (X_2[:, 0], X_2[:, 1], c=-ET)\n",
    "#plt.scatter(X_anom[:, 0], X_anom[:, 1], c='red')\n",
    "#plt.xlabel ('XI')\n",
    "#plt.ylabel ('X2')\n",
    "#plt.title('Simple autoencoder')"
   ]
  },
  {
   "cell_type": "markdown",
   "metadata": {},
   "source": [
    "Данный код строит график ROC кривой вашей модели с референсной линией, соответствующей равным ошибкам первого и второго рода. \n",
    "На пересечении этих графиков и будет точка EER (Equal Error Rate) вашей модели, которую вам нужно будет улучшить. \n",
    "Обратите внимание на график, отметьте для себя точку пересечения графиков, соответствующую ERR вашей модели."
   ]
  },
  {
   "cell_type": "code",
   "execution_count": null,
   "metadata": {},
   "outputs": [],
   "source": [
    "def plot_roc_curve(y_true, y_pred):\n",
    "    fpr, tpr, threshold = metrics.roc_curve(y_true, y_pred)\n",
    "    roc_auc = metrics.auc(fpr, tpr)\n",
    "    eer = fpr[np.argmin(np.abs(1 - tpr - fpr))] # EER - абсцисса (FPR) точки пересечения двух графиков\n",
    "    print(f'EER = {eer}')\n",
    "    plt.title('Receiver Operating Characteristic')\n",
    "    plt.plot(fpr, tpr, 'b', label = 'AUC = %0.3f' % roc_auc)\n",
    "    plt.legend(loc = 'lower right')\n",
    "    plt.plot([0, 1], [1, 0], 'r--')\n",
    "    plt.xlim([0, 1])\n",
    "    plt.ylim([0, 1])\n",
    "    plt.ylabel('True Positive Rate')\n",
    "    plt.xlabel('False Positive Rate')\n",
    "    plt.show()"
   ]
  },
  {
   "cell_type": "markdown",
   "metadata": {},
   "source": [
    "from sklearn.neural_network import MLPRegressor\n",
    "model = MLPRegressor(hidden_layer_sizes=(30,), max_iter=1000, alpha=0.01, activation='tanh')\n",
    "model.fit(X_one, X_one)\n",
    "\n"
   ]
  },
  {
   "cell_type": "code",
   "execution_count": null,
   "metadata": {},
   "outputs": [
    {
     "name": "stdout",
     "output_type": "stream",
     "text": [
      "EER = 0.20006753334458888\n"
     ]
    },
    {
     "data": {
      "image/png": "[encoded data removed]",
      "text/plain": [
       "<Figure size 432x288 with 1 Axes>"
      ]
     },
     "metadata": {
      "needs_background": "light"
     },
     "output_type": "display_data"
    }
   ],
   "source": [
    "from sklearn.cluster import KMeans\n",
    "kmeans = KMeans(n_clusters = 4, random_state=0).fit(df)\n",
    "dist_clusters = df.apply(lambda x: min([np.linalg.norm(x - cl) for cl in kmeans.cluster_centers_]), axis = 1)\n",
    "plot_roc_curve(y, dist_clusters)"
   ]
  }
 ],
 "metadata": {
  "kernelspec": {
   "display_name": "Python 3 (ipykernel)",
   "language": "python",
   "name": "python3"
  },
  "language_info": {
   "codemirror_mode": {
    "name": "ipython",
    "version": 3
   },
   "file_extension": ".py",
   "mimetype": "text/x-python",
   "name": "python",
   "nbconvert_exporter": "python",
   "pygments_lexer": "ipython3",
   "version": "3.10.6"
  }
 },
 "nbformat": 4,
 "nbformat_minor": 2
}
