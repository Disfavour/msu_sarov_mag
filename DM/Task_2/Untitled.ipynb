{
 "cells": [
  {
   "cell_type": "code",
   "execution_count": null,
   "id": "176ac313",
   "metadata": {},
   "outputs": [],
   "source": [
    "import pandas as pd\n",
    "import numpy as np\n",
    "from sklearn.impute import KNNImputer\n",
    "from sklearn.preprocessing import MaxAbsScaler\n",
    "from sklearn.preprocessing import OneHotEncoder\n",
    "from sklearn.cluster import AgglomerativeClustering\n",
    "from scipy.cluster.hierarchy import dendrogram\n",
    "import matplotlib.pyplot as plt\n",
    "%matplotlib inline\n",
    "from sklearn.cluster import KMeans\n",
    "from sklearn.decomposition import PCA\n",
    "from sklearn.mixture import GaussianMixture\n",
    "from varclushi import VarClusHi\n",
    "from sklearn.preprocessing import StandardScaler\n",
    "import sklearn.metrics as metrics\n",
    "from sklearn.decomposition import KernelPCA\n",
    "from sklearn.preprocessing import RobustScaler, MinMaxScaler, Normalizer"
   ]
  },
  {
   "cell_type": "code",
   "execution_count": null,
   "id": "5094e496",
   "metadata": {},
   "outputs": [],
   "source": [
    "df = pd.read_csv(\"mnist_small.csv\")\n",
    "\n",
    "df['label'] = df['label'].replace(6,1)\n",
    "\n",
    "X = df.copy()\n",
    "X = X.set_index(\"label\")\n",
    "X.head()"
   ]
  },
  {
   "cell_type": "code",
   "execution_count": null,
   "id": "b1ea7a1a",
   "metadata": {},
   "outputs": [],
   "source": [
    "X = MaxAbsScaler().fit_transform(X)\n",
    "# X = MinMaxScaler().fit_transform(X)\n",
    "# X = Normalizer().fit_transform(X)\n",
    "# X = RobustScaler().fit_transform(X)\n",
    "# X = StandardScaler().fit_transform(X)\n",
    "\n",
    "X = pd.DataFrame(X)\n",
    "X\n"
   ]
  },
  {
   "cell_type": "code",
   "execution_count": null,
   "id": "35b0eda8",
   "metadata": {},
   "outputs": [],
   "source": []
  },
  {
   "cell_type": "code",
   "execution_count": null,
   "id": "51263fcc",
   "metadata": {},
   "outputs": [],
   "source": [
    "kernel_pca = KernelPCA(\n",
    "    n_components=2,\n",
    "    kernel=\"rbf\",\n",
    "    fit_inverse_transform=True,\n",
    "    n_jobs=-1)\n",
    "\n",
    "kernel_pca.fit(X)\n",
    "\n",
    "X_pca = kernel_pca.transform(X)\n",
    "\n",
    "E = abs(X.values-kernel_pca.inverse_transform(X_pca))\n",
    "\n",
    "ET = np.apply_along_axis(np.linalg.norm, 1, E)\n",
    "\n",
    "df[\"pred\"] = ET\n",
    "\n",
    "rc = metrics.roc_curve(df[\"label\"], df[\"pred\"], pos_label= 1)\n",
    "fpr, tpr, threshold = rc\n",
    "fnr = 1 - tpr\n",
    "err_threshold = threshold[np.nanargmin(np.absolute((fnr - fpr)))]\n",
    "EER = fpr[np.nanargmin(np.absolute((fnr - fpr)))]\n",
    "print(EER)\n",
    "\n",
    "plt.plot(tpr, fpr)\n",
    "plt.plot([0, 1], [1, 0])\n",
    "plt.plot([1 - EER, 1 - EER], [EER, 0], linestyle=\"dotted\", color=\"grey\")\n",
    "plt.plot([0, 1 - EER], [EER, EER], linestyle=\"dotted\", color=\"grey\")\n",
    "plt.show()"
   ]
  },
  {
   "cell_type": "code",
   "execution_count": null,
   "id": "dd9ab281",
   "metadata": {},
   "outputs": [],
   "source": [
    "EER = fnr[np.nanargmin(np.absolute((fpr - fnr)))]\n",
    "print(EER)\n",
    "\n",
    "plt.plot(fpr, tpr)\n",
    "plt.plot([0, 1], [1, 0])\n",
    "plt.axvline(x = 0.2, color = 'r')\n",
    "plt.xlim([0, 1])\n",
    "plt.ylim([0, 1])\n",
    "plt.show()"
   ]
  },
  {
   "cell_type": "code",
   "execution_count": null,
   "id": "5af107e9",
   "metadata": {},
   "outputs": [],
   "source": [
    "roc_auc = metrics.auc(fpr, tpr)\n",
    "roc_auc"
   ]
  },
  {
   "cell_type": "code",
   "execution_count": null,
   "id": "8dce1dfb",
   "metadata": {},
   "outputs": [],
   "source": [
    "roc_auc = metrics.auc(tpr, fpr)\n",
    "roc_auc"
   ]
  },
  {
   "cell_type": "code",
   "execution_count": null,
   "id": "797b5b8a",
   "metadata": {},
   "outputs": [],
   "source": [
    "df"
   ]
  },
  {
   "cell_type": "code",
   "execution_count": null,
   "id": "9471cc93",
   "metadata": {},
   "outputs": [],
   "source": [
    "zeros = df[df[\"label\"] == 0]\n",
    "sixes = df[df[\"label\"] == 1]\n",
    "\n",
    "plt.imshow(zeros[zeros[\"pred\"] == zeros[\"pred\"].min()].values[0][1:-1].reshape(28, 28))\n",
    "plt.show()\n",
    "\n",
    "plt.imshow(zeros[zeros[\"pred\"] == zeros[\"pred\"].max()].values[0][1:-1].reshape(28, 28))\n",
    "plt.show()\n",
    "\n",
    "plt.imshow(sixes[sixes[\"pred\"] == sixes[\"pred\"].min()].values[0][1:-1].reshape(28, 28))\n",
    "plt.show()\n",
    "\n",
    "plt.imshow(sixes[sixes[\"pred\"] == sixes[\"pred\"].max()].values[0][1:-1].reshape(28, 28))\n",
    "plt.show()\n",
    "\n",
    "#df[df['my_column'] == df['my_column']. max ()]"
   ]
  },
  {
   "cell_type": "code",
   "execution_count": null,
   "id": "cee72521",
   "metadata": {},
   "outputs": [],
   "source": [
    "# plt.imshow(zeros[sixes[\"pred\"] == sixes[\"pred\"].min()].values[0][1:-1].reshape(28, 28))\n",
    "# plt.show()\n",
    "\n",
    "# plt.imshow(zeros[sixes[\"pred\"] == sixes[\"pred\"].max()].values[0][1:-1].reshape(28, 28))\n",
    "# plt.show()\n",
    "sixes"
   ]
  },
  {
   "cell_type": "code",
   "execution_count": null,
   "id": "c1b92703",
   "metadata": {},
   "outputs": [],
   "source": []
  }
 ],
 "metadata": {
  "kernelspec": {
   "display_name": "Python 3 (ipykernel)",
   "language": "python",
   "name": "python3"
  },
  "language_info": {
   "codemirror_mode": {
    "name": "ipython",
    "version": 3
   },
   "file_extension": ".py",
   "mimetype": "text/x-python",
   "name": "python",
   "nbconvert_exporter": "python",
   "pygments_lexer": "ipython3",
   "version": "3.10.6"
  }
 },
 "nbformat": 4,
 "nbformat_minor": 5
}
